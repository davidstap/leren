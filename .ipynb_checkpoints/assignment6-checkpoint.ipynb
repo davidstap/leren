{
 "cells": [
  {
   "cell_type": "code",
   "execution_count": 2,
   "metadata": {
    "collapsed": true
   },
   "outputs": [],
   "source": [
    "import math\n",
    "import numpy as np\n",
    "from numpy import genfromtxt\n",
    "import operator\n",
    "import random"
   ]
  },
  {
   "cell_type": "code",
   "execution_count": 3,
   "metadata": {
    "collapsed": false
   },
   "outputs": [],
   "source": [
    "# Import X and y from csv file\n",
    "def read_logistic_data(filename):\n",
    "    my_data = genfromtxt(filename, delimiter=';')\n",
    "    X = []\n",
    "    y= []\n",
    "    for i in range(len(my_data)):\n",
    "        new_data = my_data[i]\n",
    "        y.append([new_data[-1]])\n",
    "        X.append(np.delete(new_data, -1))\n",
    "    return X, y\n",
    "\n",
    "X_train, y_train = read_logistic_data('digits123-1.csv')\n",
    "X_test, y_test = read_logistic_data('digits123-2.csv')"
   ]
  },
  {
   "cell_type": "markdown",
   "metadata": {},
   "source": [
    "### Question 1: k-means clustering"
   ]
  },
  {
   "cell_type": "code",
   "execution_count": 4,
   "metadata": {
    "collapsed": false
   },
   "outputs": [],
   "source": [
    "def random_means(k, X):\n",
    "    initialWeight = []\n",
    "    for i in range(k):\n",
    "        rand_x = int(random.uniform(0, len(X)-1))\n",
    "        initialWeight.append(X[rand_x])\n",
    "                \n",
    "    return initialWeight"
   ]
  },
  {
   "cell_type": "code",
   "execution_count": 5,
   "metadata": {
    "collapsed": false
   },
   "outputs": [],
   "source": [
    "def KMeans(X, k, iterations, means):    \n",
    "    for i in range(iterations):\n",
    "        # Initialize lists to store assigned values in clusters\n",
    "        clusters = list()\n",
    "        for i in range(len(means)):\n",
    "            clusters.append([])\n",
    "\n",
    "        # Assign all training examples to a cluster\n",
    "        for i in range(len(X)):\n",
    "            distance = 9999\n",
    "            for j in range(len(means)):\n",
    "                euclidean = math.sqrt(sum((X[i]-means[j])**2))\n",
    "                # Find the cluster with smallest euclidean distance\n",
    "                if euclidean < distance:\n",
    "                    result = j\n",
    "                    distance = euclidean\n",
    "            clusters[result].append(i)\n",
    "        \n",
    "        # Update cluster means\n",
    "        for i in range(len(clusters)):\n",
    "            mean_sum = 0\n",
    "            for x in clusters[i]:\n",
    "                mean_sum += X[x]\n",
    "            mean_sum = mean_sum / len(clusters[i])         \n",
    "            means[i] = mean_sum\n",
    " \n",
    "    return means, clusters"
   ]
  },
  {
   "cell_type": "code",
   "execution_count": 6,
   "metadata": {
    "collapsed": false
   },
   "outputs": [
    {
     "name": "stdout",
     "output_type": "stream",
     "text": [
      "[  0.     1.36  11.82  14.56   7.16   0.96   0.     0.     0.02   5.56\n",
      "  13.74  12.26  10.99   3.23   0.03   0.     0.     3.79   7.6    6.24\n",
      "  11.51   3.98   0.03   0.     0.     0.35   1.83   6.28  12.36   3.17   0.\n",
      "   0.     0.     0.03   0.96   8.71  11.27   1.73   0.     0.     0.     0.16\n",
      "   3.78  11.3    8.67   2.52   0.88   0.02   0.     1.37  11.45  14.06\n",
      "  12.71  11.54   8.49   1.01   0.     1.4   12.01  14.45  13.14  12.12\n",
      "   9.23   3.43]\n",
      "Number of training examples assigned to mean:  94\n",
      "-------------------------------------------------------------------------\n",
      "[  0.     0.06   2.99  12.78  12.3    4.05   0.57   0.01   0.     0.4\n",
      "   5.64  14.75  15.23   6.94   0.77   0.01   0.03   1.12   6.56  14.71\n",
      "  15.23   5.91   0.23   0.     0.01   1.57   7.49  15.01  14.49   3.84\n",
      "   0.05   0.     0.     0.7    7.14  14.83  13.61   2.69   0.01   0.     0.\n",
      "   0.43   7.25  14.78  13.57   2.32   0.     0.     0.     0.18   5.97\n",
      "  14.55  13.34   3.13   0.09   0.     0.     0.04   3.25  12.04  12.87\n",
      "   3.74   0.19   0.  ]\n",
      "Number of training examples assigned to mean:  77\n",
      "-------------------------------------------------------------------------\n",
      "[  0.     0.42   7.4   13.09  13.88   8.56   0.9    0.     0.02   3.68\n",
      "  11.13   8.81  11.11  12.95   2.11   0.02   0.01   2.16   4.22   4.53\n",
      "  11.09  11.01   1.22   0.     0.     0.7    2.43   8.17  12.51   7.75\n",
      "   0.52   0.     0.     0.18   1.14   4.35  11.13  11.74   2.07   0.     0.\n",
      "   0.45   1.47   1.29   5.95  11.57   5.32   0.01   0.     0.91   6.37\n",
      "   5.3    8.42  13.3    6.25   0.27   0.     0.3    8.02  13.43  14.16\n",
      "  10.57   2.84   0.64]\n",
      "Number of training examples assigned to mean:  129\n",
      "-------------------------------------------------------------------------\n"
     ]
    }
   ],
   "source": [
    "# Example run: random means initialization (i.e. pick random training examples as mean)\n",
    "rand_means = random_means(3, X_train)\n",
    "means, clusters = KMeans(X_train, 3, 15, rand_means)\n",
    "\n",
    "np.set_printoptions(precision=2, suppress=True)\n",
    "\n",
    "for i in range(len(means)):\n",
    "    print means[i]\n",
    "    print 'Number of training examples assigned to mean: ', len(clusters[i])\n",
    "    print '-------------------------------------------------------------------------'"
   ]
  },
  {
   "cell_type": "code",
   "execution_count": 7,
   "metadata": {
    "collapsed": false
   },
   "outputs": [
    {
     "name": "stdout",
     "output_type": "stream",
     "text": [
      "[  0.     1.36  11.82  14.56   7.16   0.96   0.     0.     0.02   5.56\n",
      "  13.74  12.26  10.99   3.23   0.03   0.     0.     3.79   7.6    6.24\n",
      "  11.51   3.98   0.03   0.     0.     0.35   1.83   6.28  12.36   3.17   0.\n",
      "   0.     0.     0.03   0.96   8.71  11.27   1.73   0.     0.     0.     0.16\n",
      "   3.78  11.3    8.67   2.52   0.88   0.02   0.     1.37  11.45  14.06\n",
      "  12.71  11.54   8.49   1.01   0.     1.4   12.01  14.45  13.14  12.12\n",
      "   9.23   3.43]\n",
      "Number of training examples assigned to mean:  94\n",
      "-------------------------------------------------------------------------\n",
      "[  0.     0.09   3.29  12.9   12.44   4.34   0.55   0.01   0.     0.4\n",
      "   5.78  14.51  15.04   7.26   0.79   0.01   0.03   1.07   6.31  14.29\n",
      "  15.12   6.19   0.25   0.     0.01   1.51   7.25  14.88  14.53   3.81\n",
      "   0.05   0.     0.     0.68   6.91  14.79  13.64   2.65   0.01   0.     0.\n",
      "   0.41   7.04  14.55  13.66   2.45   0.     0.     0.     0.21   5.9\n",
      "  14.25  13.41   3.17   0.09   0.     0.     0.05   3.58  12.19  12.9\n",
      "   3.67   0.19   0.  ]\n",
      "Number of training examples assigned to mean:  80\n",
      "-------------------------------------------------------------------------\n",
      "[  0.     0.41   7.31  13.02  13.83   8.48   0.92   0.     0.02   3.76\n",
      "  11.17   8.82  11.13  12.88   2.13   0.02   0.01   2.21   4.33   4.56\n",
      "  11.06  10.95   1.24   0.     0.     0.71   2.46   8.1   12.44   7.87\n",
      "   0.53   0.     0.     0.18   1.14   4.13  11.06  11.98   2.12   0.     0.\n",
      "   0.46   1.47   1.12   5.71  11.71   5.44   0.01   0.     0.91   6.43\n",
      "   5.27   8.25  13.52   6.4    0.28   0.     0.3    7.93  13.37  14.17\n",
      "  10.78   2.9    0.66]\n",
      "Number of training examples assigned to mean:  126\n",
      "-------------------------------------------------------------------------\n"
     ]
    }
   ],
   "source": [
    "# Example run: another random means initialization\n",
    "rand_means = random_means(3, X_train)\n",
    "means, clusters = KMeans(X_train, 3, 15, rand_means)\n",
    "\n",
    "for i in range(len(means)):\n",
    "    print means[i]\n",
    "    print 'Number of training examples assigned to mean: ', len(clusters[i])\n",
    "    print '-------------------------------------------------------------------------'"
   ]
  },
  {
   "cell_type": "code",
   "execution_count": 8,
   "metadata": {
    "collapsed": false
   },
   "outputs": [
    {
     "name": "stdout",
     "output_type": "stream",
     "text": [
      "[  0.     0.09   3.29  12.9   12.44   4.34   0.55   0.01   0.     0.4\n",
      "   5.78  14.51  15.04   7.26   0.79   0.01   0.03   1.07   6.31  14.29\n",
      "  15.12   6.19   0.25   0.     0.01   1.51   7.25  14.88  14.53   3.81\n",
      "   0.05   0.     0.     0.68   6.91  14.79  13.64   2.65   0.01   0.     0.\n",
      "   0.41   7.04  14.55  13.66   2.45   0.     0.     0.     0.21   5.9\n",
      "  14.25  13.41   3.17   0.09   0.     0.     0.05   3.58  12.19  12.9\n",
      "   3.67   0.19   0.  ]\n",
      "Number of training examples assigned to mean:  80\n",
      "-------------------------------------------------------------------------\n",
      "[  0.     1.36  11.82  14.56   7.16   0.96   0.     0.     0.02   5.56\n",
      "  13.74  12.26  10.99   3.23   0.03   0.     0.     3.79   7.6    6.24\n",
      "  11.51   3.98   0.03   0.     0.     0.35   1.83   6.28  12.36   3.17   0.\n",
      "   0.     0.     0.03   0.96   8.71  11.27   1.73   0.     0.     0.     0.16\n",
      "   3.78  11.3    8.67   2.52   0.88   0.02   0.     1.37  11.45  14.06\n",
      "  12.71  11.54   8.49   1.01   0.     1.4   12.01  14.45  13.14  12.12\n",
      "   9.23   3.43]\n",
      "Number of training examples assigned to mean:  94\n",
      "-------------------------------------------------------------------------\n",
      "[  0.     0.41   7.31  13.02  13.83   8.48   0.92   0.     0.02   3.76\n",
      "  11.17   8.82  11.13  12.88   2.13   0.02   0.01   2.21   4.33   4.56\n",
      "  11.06  10.95   1.24   0.     0.     0.71   2.46   8.1   12.44   7.87\n",
      "   0.53   0.     0.     0.18   1.14   4.13  11.06  11.98   2.12   0.     0.\n",
      "   0.46   1.47   1.12   5.71  11.71   5.44   0.01   0.     0.91   6.43\n",
      "   5.27   8.25  13.52   6.4    0.28   0.     0.3    7.93  13.37  14.17\n",
      "  10.78   2.9    0.66]\n",
      "Number of training examples assigned to mean:  126\n",
      "-------------------------------------------------------------------------\n"
     ]
    }
   ],
   "source": [
    "# Example run: handselected values for mean.\n",
    "means, clusters = KMeans(X_train, 3, 15, [X_train[0], X_train[150], X_train[299]])\n",
    "\n",
    "for i in range(len(means)):\n",
    "    print means[i]\n",
    "    print 'Number of training examples assigned to mean: ', len(clusters[i])\n",
    "    print '-------------------------------------------------------------------------'"
   ]
  },
  {
   "cell_type": "markdown",
   "metadata": {},
   "source": [
    "### Question 2: optimized k"
   ]
  },
  {
   "cell_type": "code",
   "execution_count": 9,
   "metadata": {
    "collapsed": false
   },
   "outputs": [
    {
     "name": "stdout",
     "output_type": "stream",
     "text": [
      "[0, 1, 2, 4, 5, 6, 7, 8, 9, 10, 24, 25, 26, 27, 28, 29, 30, 31, 32, 33, 34, 35, 36, 37, 38, 39, 40, 41, 42, 43, 44, 45, 46, 47, 48, 49, 51, 53, 54, 56, 57, 58, 59, 60, 61, 62, 76, 77, 78, 79, 80, 81, 82, 83, 84, 85, 86, 87, 88, 89, 90, 91, 92, 93, 94, 95, 96, 97, 98, 99, 100, 101, 238, 277, 278, 279, 280, 281, 290, 292]\n",
      "\n",
      "[3, 11, 12, 13, 15, 16, 17, 18, 19, 20, 21, 22, 23, 102, 103, 104, 105, 106, 107, 109, 111, 112, 113, 114, 115, 116, 117, 118, 119, 120, 121, 122, 123, 124, 125, 126, 127, 128, 129, 131, 132, 133, 134, 135, 136, 137, 138, 139, 140, 141, 142, 143, 144, 145, 146, 147, 148, 149, 155, 157, 159, 160, 161, 162, 163, 164, 165, 166, 167, 168, 169, 170, 171, 172, 173, 174, 176, 178, 180, 182, 183, 185, 186, 187, 188, 189, 190, 191, 192, 193, 194, 195, 196, 197]\n",
      "\n",
      "[14, 50, 52, 55, 63, 64, 65, 66, 67, 68, 69, 70, 71, 72, 73, 74, 75, 108, 110, 130, 150, 151, 152, 153, 154, 156, 158, 175, 177, 179, 181, 184, 198, 199, 200, 201, 202, 203, 204, 205, 206, 207, 208, 209, 210, 211, 212, 213, 214, 215, 216, 217, 218, 219, 220, 221, 222, 223, 224, 225, 226, 227, 228, 229, 230, 231, 232, 233, 234, 235, 236, 237, 239, 240, 241, 242, 243, 244, 245, 246, 247, 248, 249, 250, 251, 252, 253, 254, 255, 256, 257, 258, 259, 260, 261, 262, 263, 264, 265, 266, 267, 268, 269, 270, 271, 272, 273, 274, 275, 276, 282, 283, 284, 285, 286, 287, 288, 289, 291, 293, 294, 295, 296, 297, 298, 299]\n"
     ]
    },
    {
     "data": {
      "text/plain": [
       "0"
      ]
     },
     "execution_count": 9,
     "metadata": {},
     "output_type": "execute_result"
    }
   ],
   "source": [
    "def J(means, clusters):\n",
    "\n",
    "    print clusters[0]\n",
    "    print \n",
    "    print clusters[1]\n",
    "    print\n",
    "    print clusters[2]\n",
    "    \n",
    "    \n",
    "# sum = 0\n",
    "# for every training example: \n",
    "# sum +=  || training example - cluster centroid of assigned cluster || ^ 2\n",
    "#\n",
    "# sum = sum / n of training examples\n",
    "\n",
    "\n",
    "\n",
    "    return 0\n",
    "\n",
    "\n",
    "\n",
    "J(means, clusters)\n"
   ]
  },
  {
   "cell_type": "code",
   "execution_count": null,
   "metadata": {
    "collapsed": true
   },
   "outputs": [],
   "source": [
    "# TODO\n",
    "\n",
    "# cost function \n",
    "# determine best k using cost function\n",
    "# plot elbow method\n",
    "\n",
    "# run random mean initialization x times, pick one that results in lowest cost"
   ]
  },
  {
   "cell_type": "code",
   "execution_count": 12,
   "metadata": {
    "collapsed": false
   },
   "outputs": [
    {
     "data": {
      "text/plain": [
       "369.0"
      ]
     },
     "execution_count": 12,
     "metadata": {},
     "output_type": "execute_result"
    }
   ],
   "source": [
    "for x in clusters[i]:\n",
    "                mean_sum += X[x]"
   ]
  },
  {
   "cell_type": "code",
   "execution_count": null,
   "metadata": {
    "collapsed": true
   },
   "outputs": [],
   "source": []
  }
 ],
 "metadata": {
  "anaconda-cloud": {},
  "kernelspec": {
   "display_name": "Python [conda root]",
   "language": "python",
   "name": "conda-root-py"
  },
  "language_info": {
   "codemirror_mode": {
    "name": "ipython",
    "version": 2
   },
   "file_extension": ".py",
   "mimetype": "text/x-python",
   "name": "python",
   "nbconvert_exporter": "python",
   "pygments_lexer": "ipython2",
   "version": "2.7.12"
  }
 },
 "nbformat": 4,
 "nbformat_minor": 1
}
