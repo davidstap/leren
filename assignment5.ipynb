{
 "cells": [
  {
   "cell_type": "code",
   "execution_count": 217,
   "metadata": {
    "collapsed": true
   },
   "outputs": [],
   "source": [
    "import math\n",
    "import numpy as np\n",
    "from numpy import genfromtxt\n",
    "import operator"
   ]
  },
  {
   "cell_type": "code",
   "execution_count": 218,
   "metadata": {
    "collapsed": false
   },
   "outputs": [],
   "source": [
    "# import X and y from csv file\n",
    "def read_logistic_data(filename):\n",
    "    my_data = genfromtxt(filename, delimiter=';')\n",
    "    X = []\n",
    "    y= []\n",
    "    for i in range(len(my_data)):\n",
    "        new_data = my_data[i]\n",
    "        y.append([new_data[-1]])\n",
    "        X.append(np.delete(new_data, -1))\n",
    "    return X, y\n",
    "\n",
    "X_train, y_train = read_logistic_data('digits123-1.csv')\n",
    "X_test, y_test = read_logistic_data('digits123-2.csv')"
   ]
  },
  {
   "cell_type": "code",
   "execution_count": 219,
   "metadata": {
    "collapsed": false
   },
   "outputs": [],
   "source": [
    "'''\n",
    "INPUT: \n",
    "- training data (features and class concatenated)\n",
    "\n",
    "OUTPUT:\n",
    "- dictionary where classes are keys, with training examples\n",
    "  corresponding to that class as values.\n",
    "'''\n",
    "def separate_classes(data):\n",
    "    classdict = dict()\n",
    "    for i in range(len(data)):\n",
    "        x = data[i]\n",
    "        if (x[-1] not in classdict):\n",
    "            classdict[x[-1]] = []\n",
    "        classdict[x[-1]].append(x)\n",
    "    \n",
    "    return classdict\n",
    "\n",
    "classes = separate_classes(np.concatenate((X_train, y_train), axis=1))"
   ]
  },
  {
   "cell_type": "code",
   "execution_count": 54,
   "metadata": {
    "collapsed": false
   },
   "outputs": [],
   "source": [
    "'''\n",
    "INPUT:\n",
    "- numpy array\n",
    "\n",
    "OUTPUT:\n",
    "- mean of values in array\n",
    "- variance of values in array\n",
    "'''\n",
    "def mean_var(x):\n",
    "    mean = sum(x)/len(x) \n",
    "    variance = sum(((x-mean)**2))/len(x)   \n",
    "    return mean, variance    "
   ]
  },
  {
   "cell_type": "code",
   "execution_count": 176,
   "metadata": {
    "collapsed": false
   },
   "outputs": [],
   "source": [
    "'''\n",
    "INPUT:\n",
    "- class\n",
    "\n",
    "OUTPUT:\n",
    "- dictionary where classes are keys, with (mean, variance) list\n",
    "  of training examples corresponding to correct class.\n",
    "'''\n",
    "def mean_var_class(c):\n",
    "    mean_var_list = list()\n",
    "    \n",
    "    # loop over every attribute\n",
    "    for i in range(len(classes[c][0])-1):\n",
    "        mean_var_attribute = np.array([])\n",
    "        # loop over every training example\n",
    "        for j in range(len(classes[c])):\n",
    "            mean_var_attribute = np.concatenate((mean_var_attribute, np.array([classes[c][j][i]])), axis=0)\n",
    "        mean_var_list.append(mean_var(mean_var_attribute))\n",
    "    \n",
    "    return mean_var_list\n",
    "\n",
    "\n",
    "# create dict: key = class, entry = list with mean and variance for every feature    \n",
    "mean_var_dict = {1.0 : mean_var_class(1.0), 2.0: mean_var_class(2.0), 3.0 : mean_var_class(3.0)}"
   ]
  },
  {
   "cell_type": "code",
   "execution_count": 179,
   "metadata": {
    "collapsed": false
   },
   "outputs": [],
   "source": [
    "'''\n",
    "INPUT:\n",
    "- mean\n",
    "- variance\n",
    "- value for feature x\n",
    "\n",
    "OUTPUT:\n",
    "- probability density function\n",
    "'''\n",
    "def pdf(mean, variance, x):\n",
    "    # ignore training examples with value 0 for mean and variance,\n",
    "    # i.e. return p = 1, so that multiplying with p does not change value.\n",
    "    if ((mean == 0) & (variance == 0)):\n",
    "        p = 1\n",
    "    else:\n",
    "        p = (1/(math.sqrt(2*variance*math.pi)))*math.e**-(((x-mean)**2)/(2*variance))\n",
    "    \n",
    "    return p"
   ]
  },
  {
   "cell_type": "code",
   "execution_count": 220,
   "metadata": {
    "collapsed": false
   },
   "outputs": [
    {
     "name": "stdout",
     "output_type": "stream",
     "text": [
      "{1.0: 3.952058804347397e-47, 2.0: 2.1858205950974448e-64, 3.0: 1.8196239624211918e-63}\n",
      "1.0\n"
     ]
    }
   ],
   "source": [
    "\n",
    "'''\n",
    "INPUT:\n",
    "- list with classes\n",
    "- test instance x\n",
    "\n",
    "OUTPUT:\n",
    "- dictionary where classes are keys, with p that x\n",
    "  is in class as value.\n",
    "'''\n",
    "def class_probabilities(classes, x):\n",
    "    probabilities = {}\n",
    "    for c in classes:     \n",
    "        p = 1\n",
    "        for i in range(len(x)):\n",
    "            feature_train = x[i]\n",
    "            feature_mean = mean_var_dict[c][i][0]\n",
    "            feature_var = mean_var_dict[c][i][1]\n",
    "            p *= pdf(feature_mean, feature_var, feature_train)\n",
    "        probabilities[c] = p\n",
    "            \n",
    "    return probabilities\n",
    "\n",
    "'''\n",
    "INPUT:\n",
    "- list with classes\n",
    "- test instance x\n",
    "\n",
    "OUTPUT:\n",
    "- prediction for class\n",
    "'''\n",
    "def prediction(classes, x):\n",
    "    # return highest probability found in class_probabilities\n",
    "    return max(class_probabilities(classes, x).iteritems(), key=operator.itemgetter(1))[0]\n",
    "\n",
    "print class_probabilities([1.0, 2.0, 3.0], X_train[0])\n",
    "print prediction([1.0, 2.0, 3.0], X_train[0])"
   ]
  },
  {
   "cell_type": "code",
   "execution_count": 224,
   "metadata": {
    "collapsed": false
   },
   "outputs": [
    {
     "name": "stdout",
     "output_type": "stream",
     "text": [
      "Correct:    172\n",
      "False:      68\n",
      "Accurracy:  0.71667\n"
     ]
    }
   ],
   "source": [
    "'''\n",
    "INPUT:\n",
    "\n",
    "\n",
    "OUTPUT:\n",
    "'''\n",
    "\n",
    "\n",
    "def evaluation_gaussian_nb(X_test, y_test):\n",
    "    true = 0\n",
    "    false = 0   \n",
    "    for i in range(len(X_test)):\n",
    "        predicted = prediction([1.0 ,2.0 ,3.0], X_test[i])\n",
    "        actual = y_train[i][0]\n",
    "        if predicted == actual:\n",
    "            true += 1\n",
    "        if predicted != actual:\n",
    "            false += 1\n",
    "             \n",
    "    return true, false\n",
    "\n",
    "true, false = evaluation_gaussian_nb(X_test, y_test)\n",
    "\n",
    "print 'Correct:   ', true\n",
    "print 'False:     ', false\n",
    "print 'Accurracy: ', round((float(true)/float(false + true)), 5)    "
   ]
  },
  {
   "cell_type": "code",
   "execution_count": null,
   "metadata": {
    "collapsed": true
   },
   "outputs": [],
   "source": []
  },
  {
   "cell_type": "code",
   "execution_count": null,
   "metadata": {
    "collapsed": true
   },
   "outputs": [],
   "source": []
  },
  {
   "cell_type": "code",
   "execution_count": null,
   "metadata": {
    "collapsed": true
   },
   "outputs": [],
   "source": []
  },
  {
   "cell_type": "code",
   "execution_count": null,
   "metadata": {
    "collapsed": true
   },
   "outputs": [],
   "source": []
  },
  {
   "cell_type": "code",
   "execution_count": null,
   "metadata": {
    "collapsed": true
   },
   "outputs": [],
   "source": []
  },
  {
   "cell_type": "code",
   "execution_count": null,
   "metadata": {
    "collapsed": true
   },
   "outputs": [],
   "source": []
  }
 ],
 "metadata": {
  "anaconda-cloud": {},
  "kernelspec": {
   "display_name": "Python [conda root]",
   "language": "python",
   "name": "conda-root-py"
  },
  "language_info": {
   "codemirror_mode": {
    "name": "ipython",
    "version": 2
   },
   "file_extension": ".py",
   "mimetype": "text/x-python",
   "name": "python",
   "nbconvert_exporter": "python",
   "pygments_lexer": "ipython2",
   "version": "2.7.12"
  }
 },
 "nbformat": 4,
 "nbformat_minor": 1
}
