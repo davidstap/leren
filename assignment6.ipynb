{
 "cells": [
  {
   "cell_type": "code",
   "execution_count": 1,
   "metadata": {
    "collapsed": true
   },
   "outputs": [],
   "source": [
    "import math\n",
    "import numpy as np\n",
    "from numpy import genfromtxt\n",
    "import operator\n",
    "import random"
   ]
  },
  {
   "cell_type": "code",
   "execution_count": 2,
   "metadata": {
    "collapsed": false
   },
   "outputs": [],
   "source": [
    "# Import X and y from csv file\n",
    "def read_logistic_data(filename):\n",
    "    my_data = genfromtxt(filename, delimiter=';')\n",
    "    X = []\n",
    "    y= []\n",
    "    for i in range(len(my_data)):\n",
    "        new_data = my_data[i]\n",
    "        y.append([new_data[-1]])\n",
    "        X.append(np.delete(new_data, -1))\n",
    "    return X, y\n",
    "\n",
    "X_train, y_train = read_logistic_data('digits123-1.csv')\n",
    "X_test, y_test = read_logistic_data('digits123-2.csv')"
   ]
  },
  {
   "cell_type": "markdown",
   "metadata": {},
   "source": [
    "### Question 1: k-means clustering"
   ]
  },
  {
   "cell_type": "code",
   "execution_count": 205,
   "metadata": {
    "collapsed": false
   },
   "outputs": [],
   "source": [
    "def random_means(k, X):\n",
    "    initialWeight = []\n",
    "    for i in range(k):\n",
    "        rand_x = int(random.uniform(0, len(X)-1))\n",
    "        initialWeight.append(X[rand_x])\n",
    "                \n",
    "    return initialWeight"
   ]
  },
  {
   "cell_type": "code",
   "execution_count": 207,
   "metadata": {
    "collapsed": false
   },
   "outputs": [],
   "source": [
    "def KMeans(X, k, iterations, means):    \n",
    "    for i in range(iterations):\n",
    "        # Initialize lists to store assigned values in clusters\n",
    "        clusters = list()\n",
    "        for i in range(len(means)):\n",
    "            clusters.append([])\n",
    "\n",
    "        # Assign all training examples to a cluster\n",
    "        for i in range(len(X)):\n",
    "            distance = 9999\n",
    "            for j in range(len(means)):\n",
    "                euclidean = math.sqrt(sum((X[i]-means[j])**2))\n",
    "                # Find the cluster with smallest euclidean distance\n",
    "                if euclidean < distance:\n",
    "                    result = j\n",
    "                    distance = euclidean\n",
    "            clusters[result].append(i)\n",
    "        \n",
    "        # Update cluster means\n",
    "        for i in range(len(clusters)):\n",
    "            mean_sum = 0\n",
    "            for x in clusters[i]:\n",
    "                mean_sum += X[x]\n",
    "            mean_sum = mean_sum / len(clusters[i])         \n",
    "            means[i] = mean_sum\n",
    " \n",
    "    return means, clusters"
   ]
  },
  {
   "cell_type": "code",
   "execution_count": 229,
   "metadata": {
    "collapsed": false
   },
   "outputs": [
    {
     "name": "stdout",
     "output_type": "stream",
     "text": [
      "[  0.     1.36  11.82  14.56   7.16   0.96   0.     0.     0.02   5.56\n",
      "  13.74  12.26  10.99   3.23   0.03   0.     0.     3.79   7.6    6.24\n",
      "  11.51   3.98   0.03   0.     0.     0.35   1.83   6.28  12.36   3.17   0.\n",
      "   0.     0.     0.03   0.96   8.71  11.27   1.73   0.     0.     0.     0.16\n",
      "   3.78  11.3    8.67   2.52   0.88   0.02   0.     1.37  11.45  14.06\n",
      "  12.71  11.54   8.49   1.01   0.     1.4   12.01  14.45  13.14  12.12\n",
      "   9.23   3.43]\n",
      "Number of training examples assigned to mean:  94\n",
      "-------------------------------------------------------------------------\n",
      "[  0.     0.16   3.53  12.98  12.57   4.57   0.54   0.01   0.     0.49\n",
      "   5.95  14.42  14.99   7.54   0.87   0.01   0.02   1.04   6.19  14.02\n",
      "  15.06   6.29   0.29   0.     0.01   1.46   7.29  14.87  14.29   3.71\n",
      "   0.05   0.     0.     0.65   7.01  14.77  13.48   2.59   0.01   0.     0.\n",
      "   0.4    6.82  14.4   13.73   2.75   0.02   0.     0.     0.2    5.76\n",
      "  13.87  13.35   3.63   0.25   0.     0.     0.07   3.86  12.31  12.88\n",
      "   3.77   0.2    0.  ]\n",
      "Number of training examples assigned to mean:  83\n",
      "-------------------------------------------------------------------------\n",
      "[  0.     0.37   7.24  12.98  13.77   8.43   0.93   0.     0.02   3.78\n",
      "  11.19   8.74  11.07  12.83   2.11   0.02   0.01   2.27   4.36   4.5   11.\n",
      "  11.     1.24   0.     0.     0.73   2.32   7.93  12.55   8.03   0.54   0.\n",
      "   0.     0.19   0.93   3.88  11.1   12.25   2.17   0.     0.     0.47\n",
      "   1.48   0.89   5.46  11.73   5.56   0.01   0.     0.93   6.54   5.31\n",
      "   8.17  13.46   6.44   0.28   0.     0.29   7.85  13.32  14.22  10.89\n",
      "   2.96   0.67]\n",
      "Number of training examples assigned to mean:  123\n",
      "-------------------------------------------------------------------------\n"
     ]
    }
   ],
   "source": [
    "# Example run: random means initialization (i.e. pick random training examples as mean)\n",
    "rand_means = random_means(3, X_train)\n",
    "means, clusters = KMeans(X_train, 3, 15, rand_means)\n",
    "\n",
    "np.set_printoptions(precision=2, suppress=True)\n",
    "\n",
    "for i in range(len(means)):\n",
    "    print means[i]\n",
    "    print 'Number of training examples assigned to mean: ', len(clusters[i])\n",
    "    print '-------------------------------------------------------------------------'"
   ]
  },
  {
   "cell_type": "code",
   "execution_count": 230,
   "metadata": {
    "collapsed": false
   },
   "outputs": [
    {
     "name": "stdout",
     "output_type": "stream",
     "text": [
      "[  0.     0.     0.     1.     9.79  14.26   2.74   0.     0.     0.11\n",
      "   2.26   9.32  15.42  15.16   2.21   0.     0.     4.26  12.84  14.47\n",
      "  13.95  14.58   2.16   0.     0.     5.68  10.68   6.26  10.32  14.     1.37\n",
      "   0.     0.     1.26   2.21   0.79  10.32  13.68   1.53   0.     0.     0.\n",
      "   0.     0.84  10.53  12.74   1.58   0.     0.     0.     0.     0.84\n",
      "  11.21  13.58   3.79   0.     0.     0.     0.     0.68  11.    14.16\n",
      "   3.53   0.  ]\n",
      "Number of training examples assigned to mean:  19\n",
      "-------------------------------------------------------------------------\n",
      "[  0.     0.48   8.75  14.98  14.32   7.04   0.5    0.     0.03   4.35\n",
      "  12.64   8.78  10.75  12.08   1.79   0.02   0.01   1.97   3.61   2.77\n",
      "  10.62  10.48   0.92   0.     0.     0.12   1.05   7.32  13.02   7.07\n",
      "   0.32   0.     0.     0.07   0.76   4.66  11.65  10.52   1.83   0.     0.\n",
      "   0.45   1.68   2.62   6.24   9.78   5.05   0.01   0.     0.95   7.8\n",
      "   7.24   8.76  12.58   6.77   0.47   0.     0.35   9.48  15.16  14.58\n",
      "  10.47   4.02   1.38]\n",
      "Number of training examples assigned to mean:  130\n",
      "-------------------------------------------------------------------------\n",
      "[  0.     0.83   7.67  13.75   9.02   2.12   0.28   0.01   0.     3.06\n",
      "   9.77  13.94  12.91   4.3    0.39   0.01   0.01   2.54   6.96  11.06\n",
      "  13.5    4.03   0.12   0.     0.01   0.8    4.78  11.46  13.27   2.71\n",
      "   0.03   0.     0.     0.31   4.28  12.59  12.13   1.71   0.01   0.     0.\n",
      "   0.32   5.85  13.32  10.7    2.62   0.55   0.01   0.     0.91   8.9\n",
      "  14.36  12.95   7.6    4.36   0.46   0.     0.85   7.82  13.47  12.91\n",
      "   7.69   4.37   1.5 ]\n",
      "Number of training examples assigned to mean:  151\n",
      "-------------------------------------------------------------------------\n"
     ]
    }
   ],
   "source": [
    "# Example run: another random means initialization\n",
    "rand_means = random_means(3, X_train)\n",
    "means, clusters = KMeans(X_train, 3, 15, rand_means)\n",
    "\n",
    "for i in range(len(means)):\n",
    "    print means[i]\n",
    "    print 'Number of training examples assigned to mean: ', len(clusters[i])\n",
    "    print '-------------------------------------------------------------------------'"
   ]
  },
  {
   "cell_type": "code",
   "execution_count": 239,
   "metadata": {
    "collapsed": false
   },
   "outputs": [
    {
     "name": "stdout",
     "output_type": "stream",
     "text": [
      "[  0.     0.09   3.29  12.9   12.44   4.34   0.55   0.01   0.     0.4\n",
      "   5.78  14.51  15.04   7.26   0.79   0.01   0.03   1.07   6.31  14.29\n",
      "  15.12   6.19   0.25   0.     0.01   1.51   7.25  14.88  14.53   3.81\n",
      "   0.05   0.     0.     0.68   6.91  14.79  13.64   2.65   0.01   0.     0.\n",
      "   0.41   7.04  14.55  13.66   2.45   0.     0.     0.     0.21   5.9\n",
      "  14.25  13.41   3.17   0.09   0.     0.     0.05   3.58  12.19  12.9\n",
      "   3.67   0.19   0.  ]\n",
      "Number of training examples assigned to mean:  80\n",
      "-------------------------------------------------------------------------\n",
      "[  0.     1.36  11.82  14.56   7.16   0.96   0.     0.     0.02   5.56\n",
      "  13.74  12.26  10.99   3.23   0.03   0.     0.     3.79   7.6    6.24\n",
      "  11.51   3.98   0.03   0.     0.     0.35   1.83   6.28  12.36   3.17   0.\n",
      "   0.     0.     0.03   0.96   8.71  11.27   1.73   0.     0.     0.     0.16\n",
      "   3.78  11.3    8.67   2.52   0.88   0.02   0.     1.37  11.45  14.06\n",
      "  12.71  11.54   8.49   1.01   0.     1.4   12.01  14.45  13.14  12.12\n",
      "   9.23   3.43]\n",
      "Number of training examples assigned to mean:  94\n",
      "-------------------------------------------------------------------------\n",
      "[  0.     0.41   7.31  13.02  13.83   8.48   0.92   0.     0.02   3.76\n",
      "  11.17   8.82  11.13  12.88   2.13   0.02   0.01   2.21   4.33   4.56\n",
      "  11.06  10.95   1.24   0.     0.     0.71   2.46   8.1   12.44   7.87\n",
      "   0.53   0.     0.     0.18   1.14   4.13  11.06  11.98   2.12   0.     0.\n",
      "   0.46   1.47   1.12   5.71  11.71   5.44   0.01   0.     0.91   6.43\n",
      "   5.27   8.25  13.52   6.4    0.28   0.     0.3    7.93  13.37  14.17\n",
      "  10.78   2.9    0.66]\n",
      "Number of training examples assigned to mean:  126\n",
      "-------------------------------------------------------------------------\n"
     ]
    }
   ],
   "source": [
    "# Example run: handselected values for mean.\n",
    "means, clusters = KMeans(X_train, 3, 15, [X_train[0], X_train[150], X_train[299]])\n",
    "\n",
    "for i in range(len(means)):\n",
    "    print means[i]\n",
    "    print 'Number of training examples assigned to mean: ', len(clusters[i])\n",
    "    print '-------------------------------------------------------------------------'"
   ]
  },
  {
   "cell_type": "markdown",
   "metadata": {},
   "source": [
    "### Question 2: optimized k"
   ]
  },
  {
   "cell_type": "code",
   "execution_count": 244,
   "metadata": {
    "collapsed": false
   },
   "outputs": [
    {
     "name": "stdout",
     "output_type": "stream",
     "text": [
      "[0, 1, 2, 4, 5, 6, 7, 8, 9, 10, 24, 25, 26, 27, 28, 29, 30, 31, 32, 33, 34, 35, 36, 37, 38, 39, 40, 41, 42, 43, 44, 45, 46, 47, 48, 49, 51, 53, 54, 56, 57, 58, 59, 60, 61, 62, 76, 77, 78, 79, 80, 81, 82, 83, 84, 85, 86, 87, 88, 89, 90, 91, 92, 93, 94, 95, 96, 97, 98, 99, 100, 101, 238, 277, 278, 279, 280, 281, 290, 292]\n",
      "\n",
      "[3, 11, 12, 13, 15, 16, 17, 18, 19, 20, 21, 22, 23, 102, 103, 104, 105, 106, 107, 109, 111, 112, 113, 114, 115, 116, 117, 118, 119, 120, 121, 122, 123, 124, 125, 126, 127, 128, 129, 131, 132, 133, 134, 135, 136, 137, 138, 139, 140, 141, 142, 143, 144, 145, 146, 147, 148, 149, 155, 157, 159, 160, 161, 162, 163, 164, 165, 166, 167, 168, 169, 170, 171, 172, 173, 174, 176, 178, 180, 182, 183, 185, 186, 187, 188, 189, 190, 191, 192, 193, 194, 195, 196, 197]\n",
      "\n",
      "[14, 50, 52, 55, 63, 64, 65, 66, 67, 68, 69, 70, 71, 72, 73, 74, 75, 108, 110, 130, 150, 151, 152, 153, 154, 156, 158, 175, 177, 179, 181, 184, 198, 199, 200, 201, 202, 203, 204, 205, 206, 207, 208, 209, 210, 211, 212, 213, 214, 215, 216, 217, 218, 219, 220, 221, 222, 223, 224, 225, 226, 227, 228, 229, 230, 231, 232, 233, 234, 235, 236, 237, 239, 240, 241, 242, 243, 244, 245, 246, 247, 248, 249, 250, 251, 252, 253, 254, 255, 256, 257, 258, 259, 260, 261, 262, 263, 264, 265, 266, 267, 268, 269, 270, 271, 272, 273, 274, 275, 276, 282, 283, 284, 285, 286, 287, 288, 289, 291, 293, 294, 295, 296, 297, 298, 299]\n"
     ]
    },
    {
     "data": {
      "text/plain": [
       "0"
      ]
     },
     "execution_count": 244,
     "metadata": {},
     "output_type": "execute_result"
    }
   ],
   "source": [
    "def J(means, clusters):\n",
    "\n",
    "    print clusters[0]\n",
    "    print \n",
    "    print clusters[1]\n",
    "    print\n",
    "    print clusters[2]\n",
    "    \n",
    "    \n",
    "# sum = 0\n",
    "# for every training example: \n",
    "# sum +=  || training example - cluster centroid of assigned cluster || ^ 2\n",
    "#\n",
    "# sum = sum / n of training examples\n",
    "\n",
    "\n",
    "\n",
    "    return 0\n",
    "\n",
    "\n",
    "\n",
    "J(means, clusters)\n"
   ]
  },
  {
   "cell_type": "code",
   "execution_count": null,
   "metadata": {
    "collapsed": true
   },
   "outputs": [],
   "source": [
    "# TODO\n",
    "\n",
    "# cost function \n",
    "# determine best k using cost function\n",
    "# plot elbow method\n",
    "\n",
    "# run random mean initialization x times, pick one that results in lowest cost"
   ]
  },
  {
   "cell_type": "code",
   "execution_count": null,
   "metadata": {
    "collapsed": true
   },
   "outputs": [],
   "source": []
  },
  {
   "cell_type": "code",
   "execution_count": null,
   "metadata": {
    "collapsed": true
   },
   "outputs": [],
   "source": []
  }
 ],
 "metadata": {
  "anaconda-cloud": {},
  "kernelspec": {
   "display_name": "Python [conda root]",
   "language": "python",
   "name": "conda-root-py"
  },
  "language_info": {
   "codemirror_mode": {
    "name": "ipython",
    "version": 2
   },
   "file_extension": ".py",
   "mimetype": "text/x-python",
   "name": "python",
   "nbconvert_exporter": "python",
   "pygments_lexer": "ipython2",
   "version": "2.7.12"
  }
 },
 "nbformat": 4,
 "nbformat_minor": 1
}
