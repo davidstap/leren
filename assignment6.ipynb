{
 "cells": [
  {
   "cell_type": "code",
   "execution_count": 2,
   "metadata": {
    "collapsed": true
   },
   "outputs": [],
   "source": [
    "import math\n",
    "import numpy as np\n",
    "from numpy import genfromtxt\n",
    "import operator\n",
    "import random"
   ]
  },
  {
   "cell_type": "code",
   "execution_count": 3,
   "metadata": {
    "collapsed": false
   },
   "outputs": [],
   "source": [
    "# Import X and y from csv file\n",
    "def read_logistic_data(filename):\n",
    "    my_data = genfromtxt(filename, delimiter=';')\n",
    "    X = []\n",
    "    y= []\n",
    "    for i in range(len(my_data)):\n",
    "        new_data = my_data[i]\n",
    "        y.append([new_data[-1]])\n",
    "        X.append(np.delete(new_data, -1))\n",
    "    return X, y\n",
    "\n",
    "X_train, y_train = read_logistic_data('digits123-1.csv')\n",
    "X_test, y_test = read_logistic_data('digits123-2.csv')"
   ]
  },
  {
   "cell_type": "markdown",
   "metadata": {},
   "source": [
    "### Question 1: k-means clustering"
   ]
  },
  {
   "cell_type": "code",
   "execution_count": 4,
   "metadata": {
    "collapsed": false
   },
   "outputs": [],
   "source": [
    "def random_means(k, X):\n",
    "    initialWeight = []\n",
    "    for i in range(k):\n",
    "        rand_x = int(random.uniform(0, len(X)-1))\n",
    "        initialWeight.append(X[rand_x])\n",
    "                \n",
    "    return initialWeight"
   ]
  },
  {
   "cell_type": "code",
   "execution_count": 78,
   "metadata": {
    "collapsed": false
   },
   "outputs": [],
   "source": [
    "def KMeans(X, k, iterations, means):    \n",
    "    for i in range(iterations):\n",
    "        # Initialize lists to store assigned values in clusters\n",
    "        clusters = list()\n",
    "        for i in range(len(means)):\n",
    "            clusters.append([])\n",
    "\n",
    "        # Assign all training examples to a cluster\n",
    "        for i in range(len(X)):\n",
    "            distance = 9999\n",
    "            for j in range(len(means)):\n",
    "                euclidean = math.sqrt(sum((X[i]-means[j])**2))\n",
    "                # Find the cluster with smallest euclidean distance\n",
    "                if euclidean < distance:\n",
    "                    result = j\n",
    "                    distance = euclidean\n",
    "            clusters[result].append(i)\n",
    "        \n",
    "        # Update cluster means\n",
    "        for i in range(len(clusters)):\n",
    "            mean_sum = 0\n",
    "            for x in clusters[i]:\n",
    "                mean_sum += X[x]\n",
    "            if len(clusters[i]) != 0:\n",
    "                mean_sum = mean_sum / len(clusters[i])\n",
    "            means[i] = mean_sum\n",
    " \n",
    "    return means, clusters"
   ]
  },
  {
   "cell_type": "code",
   "execution_count": 79,
   "metadata": {
    "collapsed": false
   },
   "outputs": [
    {
     "name": "stdout",
     "output_type": "stream",
     "text": [
      "[  0.     0.83   7.72  13.81   8.98   2.05   0.29   0.01   0.     3.08\n",
      "   9.81  13.93  12.89   4.26   0.39   0.01   0.01   2.51   6.9   11.03\n",
      "  13.49   4.03   0.12   0.     0.01   0.71   4.74  11.46  13.25   2.71\n",
      "   0.03   0.     0.     0.31   4.31  12.63  12.11   1.72   0.01   0.     0.\n",
      "   0.32   5.89  13.35  10.67   2.62   0.55   0.01   0.     0.91   8.96\n",
      "  14.4   12.93   7.63   4.39   0.46   0.     0.86   7.87  13.53  12.89\n",
      "   7.71   4.4    1.51]\n",
      "Number of training examples assigned to mean:  150\n",
      "-------------------------------------------------------------------------\n",
      "[  0.     0.48   8.75  14.98  14.32   7.04   0.5    0.     0.03   4.35\n",
      "  12.64   8.78  10.75  12.08   1.79   0.02   0.01   1.97   3.61   2.77\n",
      "  10.62  10.48   0.92   0.     0.     0.12   1.05   7.32  13.02   7.07\n",
      "   0.32   0.     0.     0.07   0.76   4.66  11.65  10.52   1.83   0.     0.\n",
      "   0.45   1.68   2.62   6.24   9.78   5.05   0.01   0.     0.95   7.8\n",
      "   7.24   8.76  12.58   6.77   0.47   0.     0.35   9.48  15.16  14.58\n",
      "  10.47   4.02   1.38]\n",
      "Number of training examples assigned to mean:  130\n",
      "-------------------------------------------------------------------------\n",
      "[  0.     0.     0.     1.15  10.05  14.15   2.6    0.     0.     0.1    2.4\n",
      "   9.6   15.45  14.95   2.1    0.     0.     4.45  13.    14.55  14.05\n",
      "  14.05   2.05   0.     0.     6.1   10.7    6.5   10.6   13.4    1.3    0.\n",
      "   0.     1.2    2.1    1.1   10.6   13.     1.45   0.     0.     0.     0.\n",
      "   1.25  10.8   12.2    1.5    0.     0.     0.     0.     1.25  11.45\n",
      "  13.05   3.6    0.     0.     0.     0.     0.9   11.25  13.7    3.35   0.  ]\n",
      "Number of training examples assigned to mean:  20\n",
      "-------------------------------------------------------------------------\n"
     ]
    }
   ],
   "source": [
    "# Example run: random means initialization (i.e. pick random training examples as mean)\n",
    "rand_means = random_means(3, X_train)\n",
    "means, clusters = KMeans(X_train, 3, 15, rand_means)\n",
    "\n",
    "np.set_printoptions(precision=2, suppress=True)\n",
    "\n",
    "for i in range(len(means)):\n",
    "    print means[i]\n",
    "    print 'Number of training examples assigned to mean: ', len(clusters[i])\n",
    "    print '-------------------------------------------------------------------------'"
   ]
  },
  {
   "cell_type": "code",
   "execution_count": 80,
   "metadata": {
    "collapsed": false
   },
   "outputs": [
    {
     "name": "stdout",
     "output_type": "stream",
     "text": [
      "[  0.     0.37   7.25  12.98  13.75   8.39   0.94   0.     0.02   3.75\n",
      "  11.15   8.68  11.03  12.82   2.12   0.02   0.01   2.28   4.34   4.41\n",
      "  11.01  11.08   1.25   0.     0.     0.73   2.2    7.88  12.66   8.1\n",
      "   0.55   0.     0.     0.19   0.88   3.79  11.07  12.33   2.19   0.     0.\n",
      "   0.48   1.49   0.89   5.39  11.7    5.58   0.01   0.     0.94   6.58\n",
      "   5.31   8.13  13.44   6.43   0.29   0.     0.3    7.84  13.3   14.25\n",
      "  10.93   2.98   0.68]\n",
      "Number of training examples assigned to mean:  122\n",
      "-------------------------------------------------------------------------\n",
      "[  0.     0.17   3.57  12.98  12.61   4.67   0.54   0.01   0.     0.57\n",
      "   6.07  14.44  15.     7.62   0.86   0.01   0.02   1.04   6.2   14.05  15.\n",
      "   6.23   0.29   0.     0.01   1.45   7.39  14.87  14.12   3.67   0.05   0.\n",
      "   0.     0.64   7.02  14.77  13.49   2.6    0.01   0.     0.     0.39\n",
      "   6.74  14.24  13.74   2.89   0.06   0.     0.     0.2    5.7   13.76\n",
      "  13.35   3.77   0.33   0.     0.     0.07   3.9   12.35  12.85   3.8    0.2\n",
      "   0.  ]\n",
      "Number of training examples assigned to mean:  84\n",
      "-------------------------------------------------------------------------\n",
      "[  0.     1.36  11.82  14.56   7.16   0.96   0.     0.     0.02   5.56\n",
      "  13.74  12.26  10.99   3.23   0.03   0.     0.     3.79   7.6    6.24\n",
      "  11.51   3.98   0.03   0.     0.     0.35   1.83   6.28  12.36   3.17   0.\n",
      "   0.     0.     0.03   0.96   8.71  11.27   1.73   0.     0.     0.     0.16\n",
      "   3.78  11.3    8.67   2.52   0.88   0.02   0.     1.37  11.45  14.06\n",
      "  12.71  11.54   8.49   1.01   0.     1.4   12.01  14.45  13.14  12.12\n",
      "   9.23   3.43]\n",
      "Number of training examples assigned to mean:  94\n",
      "-------------------------------------------------------------------------\n"
     ]
    }
   ],
   "source": [
    "# Example run: another random means initialization\n",
    "rand_means = random_means(3, X_train)\n",
    "means, clusters = KMeans(X_train, 3, 15, rand_means)\n",
    "\n",
    "for i in range(len(means)):\n",
    "    print means[i]\n",
    "    print 'Number of training examples assigned to mean: ', len(clusters[i])\n",
    "    print '-------------------------------------------------------------------------'"
   ]
  },
  {
   "cell_type": "code",
   "execution_count": 81,
   "metadata": {
    "collapsed": false
   },
   "outputs": [
    {
     "name": "stdout",
     "output_type": "stream",
     "text": [
      "[  0.     0.09   3.29  12.9   12.44   4.34   0.55   0.01   0.     0.4\n",
      "   5.78  14.51  15.04   7.26   0.79   0.01   0.03   1.07   6.31  14.29\n",
      "  15.12   6.19   0.25   0.     0.01   1.51   7.25  14.88  14.53   3.81\n",
      "   0.05   0.     0.     0.68   6.91  14.79  13.64   2.65   0.01   0.     0.\n",
      "   0.41   7.04  14.55  13.66   2.45   0.     0.     0.     0.21   5.9\n",
      "  14.25  13.41   3.17   0.09   0.     0.     0.05   3.58  12.19  12.9\n",
      "   3.67   0.19   0.  ]\n",
      "Number of training examples assigned to mean:  80\n",
      "-------------------------------------------------------------------------\n",
      "[  0.     1.36  11.82  14.56   7.16   0.96   0.     0.     0.02   5.56\n",
      "  13.74  12.26  10.99   3.23   0.03   0.     0.     3.79   7.6    6.24\n",
      "  11.51   3.98   0.03   0.     0.     0.35   1.83   6.28  12.36   3.17   0.\n",
      "   0.     0.     0.03   0.96   8.71  11.27   1.73   0.     0.     0.     0.16\n",
      "   3.78  11.3    8.67   2.52   0.88   0.02   0.     1.37  11.45  14.06\n",
      "  12.71  11.54   8.49   1.01   0.     1.4   12.01  14.45  13.14  12.12\n",
      "   9.23   3.43]\n",
      "Number of training examples assigned to mean:  94\n",
      "-------------------------------------------------------------------------\n",
      "[  0.     0.41   7.31  13.02  13.83   8.48   0.92   0.     0.02   3.76\n",
      "  11.17   8.82  11.13  12.88   2.13   0.02   0.01   2.21   4.33   4.56\n",
      "  11.06  10.95   1.24   0.     0.     0.71   2.46   8.1   12.44   7.87\n",
      "   0.53   0.     0.     0.18   1.14   4.13  11.06  11.98   2.12   0.     0.\n",
      "   0.46   1.47   1.12   5.71  11.71   5.44   0.01   0.     0.91   6.43\n",
      "   5.27   8.25  13.52   6.4    0.28   0.     0.3    7.93  13.37  14.17\n",
      "  10.78   2.9    0.66]\n",
      "Number of training examples assigned to mean:  126\n",
      "-------------------------------------------------------------------------\n"
     ]
    }
   ],
   "source": [
    "# Example run: handselected values for mean.\n",
    "means, clusters = KMeans(X_train, 3, 15, [X_train[0], X_train[150], X_train[299]])\n",
    "\n",
    "for i in range(len(means)):\n",
    "    print means[i]\n",
    "    print 'Number of training examples assigned to mean: ', len(clusters[i])\n",
    "    print '-------------------------------------------------------------------------'"
   ]
  },
  {
   "cell_type": "markdown",
   "metadata": {},
   "source": [
    "### Question 2: optimized k"
   ]
  },
  {
   "cell_type": "code",
   "execution_count": 82,
   "metadata": {
    "collapsed": false
   },
   "outputs": [
    {
     "data": {
      "image/png": "[encoded data removed]",
      "text/plain": [
       "<matplotlib.figure.Figure at 0x2a30668>"
      ]
     },
     "metadata": {},
     "output_type": "display_data"
    }
   ],
   "source": [
    "import matplotlib.pyplot as plt\n",
    "def J(means, clusters, X):\n",
    "    cost_sum = 0\n",
    "    cluster_means = []\n",
    "    for i in range(len(clusters)):\n",
    "        for x in clusters[i]:\n",
    "            cost_sum += sum((X[x]-means[i])**2)\n",
    "    return cost_sum / len(X)\n",
    "\n",
    "cost = []\n",
    "k_list = []\n",
    "rand_means = random_means(9, X_train)\n",
    "for k in range(1,9):\n",
    "    means, clusters = KMeans(X_train, k, 15, rand_means[:k])\n",
    "    cost.append(J(means, clusters, X_train))\n",
    "    k_list.append(k)\n",
    "    \n",
    "plt.plot(k_list, cost)\n",
    "plt.ylabel(\"cost\")\n",
    "plt.xlabel(\"Clusters\")\n",
    "plt.show()\n",
    "    \n",
    "    \n",
    "\n",
    "    \n",
    "# sum = 0\n",
    "# for every training example: \n",
    "# sum +=  || training example - cluster centroid of assigned cluster || ^ 2\n",
    "#\n",
    "# sum = sum / n of training examples\n",
    "\n"
   ]
  },
  {
   "cell_type": "markdown",
   "metadata": {
    "collapsed": true
   },
   "source": [
    "### Question 3: Cluster comparing"
   ]
  },
  {
   "cell_type": "code",
   "execution_count": 94,
   "metadata": {
    "collapsed": false
   },
   "outputs": [
    {
     "name": "stdout",
     "output_type": "stream",
     "text": [
      "Classified Cluster 1 :\n",
      "[3.0, 3.0, 3.0, 3.0, 3.0, 3.0, 3.0, 3.0]\n",
      "Classified Cluster 2 :\n",
      "[1.0, 1.0, 1.0, 1.0, 1.0, 1.0, 1.0, 1.0, 1.0, 1.0, 1.0, 1.0, 1.0]\n",
      "Classified Cluster 3 :\n",
      "[1.0, 1.0, 1.0, 1.0, 1.0, 1.0, 1.0, 1.0, 1.0, 1.0, 1.0, 1.0, 1.0, 1.0, 1.0, 1.0, 1.0, 2.0, 2.0, 2.0, 2.0, 2.0, 2.0, 2.0, 2.0, 2.0, 2.0, 2.0, 2.0, 2.0, 2.0, 2.0]\n"
     ]
    }
   ],
   "source": [
    "means, clusters = KMeans(X_train, 3, 15, [X_train[0], X_train[150], X_train[299]])\n",
    "wrong = []\n",
    "for i in range(len(clusters)):\n",
    "    wrong.append([])\n",
    "    for x in clusters[i]:\n",
    "        if y_train[x][0] != i+1:\n",
    "            wrong[i].append(y_train[x][0])\n",
    "\n",
    "            \n",
    "for i in range(len(clusters)):\n",
    "    print \"Classified Cluster\", i+1,\":\"\n",
    "    print wrong[i]"
   ]
  },
  {
   "cell_type": "markdown",
   "metadata": {
    "collapsed": true
   },
   "source": [
    "## Discussion\n",
    "\n",
    "The data shown above are all the errors that were made by the k-means classifier. It shows the label that was given by the dataset below the cluster that it was classified under.\n",
    "\n",
    "It is noticable that cluster 3 has the most errors with classifying the digits data. Cluster 1 only has errors with data that was originally from cluster 3. Cluster 2 has the same problem with cluster 1."
   ]
  },
  {
   "cell_type": "code",
   "execution_count": null,
   "metadata": {
    "collapsed": true
   },
   "outputs": [],
   "source": []
  }
 ],
 "metadata": {
  "anaconda-cloud": {},
  "kernelspec": {
   "display_name": "Python [conda root]",
   "language": "python",
   "name": "conda-root-py"
  },
  "language_info": {
   "codemirror_mode": {
    "name": "ipython",
    "version": 2
   },
   "file_extension": ".py",
   "mimetype": "text/x-python",
   "name": "python",
   "nbconvert_exporter": "python",
   "pygments_lexer": "ipython2",
   "version": "2.7.12"
  }
 },
 "nbformat": 4,
 "nbformat_minor": 1
}
