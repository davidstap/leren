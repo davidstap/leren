{
 "cells": [
  {
   "cell_type": "code",
   "execution_count": 1,
   "metadata": {
    "collapsed": true
   },
   "outputs": [],
   "source": [
    "import math\n",
    "import numpy as np\n",
    "from numpy import genfromtxt\n",
    "import operator\n",
    "import random"
   ]
  },
  {
   "cell_type": "code",
   "execution_count": 2,
   "metadata": {
    "collapsed": false
   },
   "outputs": [],
   "source": [
    "# import X and y from csv file\n",
    "def read_logistic_data(filename):\n",
    "    my_data = genfromtxt(filename, delimiter=';')\n",
    "    X = []\n",
    "    y= []\n",
    "    for i in range(len(my_data)):\n",
    "        new_data = my_data[i]\n",
    "        y.append([new_data[-1]])\n",
    "        X.append(np.delete(new_data, -1))\n",
    "    return X, y\n",
    "\n",
    "X_train, y_train = read_logistic_data('digits123-1.csv')\n",
    "X_test, y_test = read_logistic_data('digits123-2.csv')"
   ]
  },
  {
   "cell_type": "markdown",
   "metadata": {},
   "source": [
    "### Question 1: k-means clustering"
   ]
  },
  {
   "cell_type": "code",
   "execution_count": 3,
   "metadata": {
    "collapsed": true
   },
   "outputs": [],
   "source": [
    "def initial_weights(k, x_range):\n",
    "    initialWeight = []\n",
    "    for i in range(k):\n",
    "        initialWeight.append(int(random.uniform(0, x_range)))\n",
    "        \n",
    "    return initialWeight"
   ]
  },
  {
   "cell_type": "code",
   "execution_count": 93,
   "metadata": {
    "collapsed": false
   },
   "outputs": [
    {
     "name": "stdout",
     "output_type": "stream",
     "text": [
      "[76, 158, 244]\n",
      "length class x:  76\n",
      "length class y:  117\n",
      "length class z:  107\n",
      "-----------------------------------\n",
      "length class x:  80\n",
      "length class y:  127\n",
      "length class z:  93\n",
      "-----------------------------------\n",
      "length class x:  79\n",
      "length class y:  129\n",
      "length class z:  92\n",
      "-----------------------------------\n",
      "length class x:  79\n",
      "length class y:  129\n",
      "length class z:  92\n",
      "-----------------------------------\n",
      "length class x:  79\n",
      "length class y:  128\n",
      "length class z:  93\n",
      "-----------------------------------\n",
      "length class x:  79\n",
      "length class y:  127\n",
      "length class z:  94\n",
      "-----------------------------------\n",
      "length class x:  79\n",
      "length class y:  127\n",
      "length class z:  94\n",
      "-----------------------------------\n",
      "length class x:  79\n",
      "length class y:  127\n",
      "length class z:  94\n",
      "-----------------------------------\n",
      "length class x:  79\n",
      "length class y:  127\n",
      "length class z:  94\n",
      "-----------------------------------\n",
      "length class x:  79\n",
      "length class y:  127\n",
      "length class z:  94\n",
      "-----------------------------------\n",
      "[0, 1, 2, 4, 5, 6, 7, 8, 9, 10, 24, 25, 26, 27, 28, 29, 30, 31, 32, 33, 34, 35, 36, 37, 38, 39, 40, 41, 42, 43, 44, 45, 46, 47, 48, 49, 51, 53, 54, 56, 57, 58, 59, 60, 61, 62, 76, 77, 78, 79, 80, 81, 82, 83, 84, 85, 86, 87, 88, 89, 90, 91, 92, 93, 94, 95, 96, 97, 98, 99, 100, 101, 238, 277, 278, 279, 281, 290, 292]\n",
      "[14, 50, 52, 55, 63, 64, 65, 66, 67, 68, 69, 70, 71, 72, 73, 74, 75, 108, 110, 130, 150, 151, 152, 153, 154, 156, 158, 175, 177, 179, 181, 184, 198, 199, 200, 201, 202, 203, 204, 205, 206, 207, 208, 209, 210, 211, 212, 213, 214, 215, 216, 217, 218, 219, 220, 221, 222, 223, 224, 225, 226, 227, 228, 229, 230, 231, 232, 233, 234, 235, 236, 237, 239, 240, 241, 242, 243, 244, 245, 246, 247, 248, 249, 250, 251, 252, 253, 254, 255, 256, 257, 258, 259, 260, 261, 262, 263, 264, 265, 266, 267, 268, 269, 270, 271, 272, 273, 274, 275, 276, 280, 282, 283, 284, 285, 286, 287, 288, 289, 291, 293, 294, 295, 296, 297, 298, 299]\n",
      "[3, 11, 12, 13, 15, 16, 17, 18, 19, 20, 21, 22, 23, 102, 103, 104, 105, 106, 107, 109, 111, 112, 113, 114, 115, 116, 117, 118, 119, 120, 121, 122, 123, 124, 125, 126, 127, 128, 129, 131, 132, 133, 134, 135, 136, 137, 138, 139, 140, 141, 142, 143, 144, 145, 146, 147, 148, 149, 155, 157, 159, 160, 161, 162, 163, 164, 165, 166, 167, 168, 169, 170, 171, 172, 173, 174, 176, 178, 180, 182, 183, 185, 186, 187, 188, 189, 190, 191, 192, 193, 194, 195, 196, 197]\n"
     ]
    }
   ],
   "source": [
    "def KMeans(X, k):\n",
    "    index = initial_weights(k, len(X)-1)\n",
    "    \n",
    "    print index\n",
    "    \n",
    "    means = [X[index[0]], X[index[1]], X[index[2]]]\n",
    "    \n",
    "    \n",
    "    \n",
    "    means = [X[10], X[150], X[180]]\n",
    "    \n",
    "    \n",
    "    \n",
    "    for i in range(10):\n",
    "    \n",
    "    \n",
    "        clusters = list()\n",
    "        for i in range(len(means)):\n",
    "            clusters.append([])\n",
    "\n",
    "        # assign training examples to closest cluster\n",
    "        for i in range(len(X)):\n",
    "            distance = 9999\n",
    "            for j in range(len(means)):\n",
    "                euclidean = math.sqrt(sum((X[i]-means[j])**2))\n",
    "\n",
    "                if euclidean < distance:\n",
    "                    result = j\n",
    "                    distance = euclidean\n",
    "\n",
    "            clusters[result].append(i)\n",
    "\n",
    "\n",
    "\n",
    "\n",
    "        print 'length class x: ', len(clusters[0])\n",
    "        #print clusters[0]\n",
    "        print 'length class y: ', len(clusters[1])\n",
    "        #print clusters[1]\n",
    "        print 'length class z: ', len(clusters[2])\n",
    "        #print clusters[2]\n",
    "        print '-----------------------------------'\n",
    "\n",
    "\n",
    "        # calculate new means\n",
    "        for i in range(len(clusters)):\n",
    "            mean_sum = 0\n",
    "            for x in clusters[i]:\n",
    "                mean_sum += X[x]\n",
    "            mean_sum = mean_sum / len(clusters[i])\n",
    "            \n",
    "            means[i] = mean_sum\n",
    "            #print 'sum: ', mean_sum\n",
    "\n",
    "    \n",
    "    \n",
    "    \n",
    "    \n",
    "    print clusters[0]\n",
    "    print clusters[1]\n",
    "    print clusters[2]\n",
    "    \n",
    "KMeans(X_train, 3)\n",
    "    \n"
   ]
  },
  {
   "cell_type": "code",
   "execution_count": null,
   "metadata": {
    "collapsed": true
   },
   "outputs": [],
   "source": []
  }
 ],
 "metadata": {
  "anaconda-cloud": {},
  "kernelspec": {
   "display_name": "Python [conda root]",
   "language": "python",
   "name": "conda-root-py"
  },
  "language_info": {
   "codemirror_mode": {
    "name": "ipython",
    "version": 2
   },
   "file_extension": ".py",
   "mimetype": "text/x-python",
   "name": "python",
   "nbconvert_exporter": "python",
   "pygments_lexer": "ipython2",
   "version": "2.7.12"
  }
 },
 "nbformat": 4,
 "nbformat_minor": 1
}
