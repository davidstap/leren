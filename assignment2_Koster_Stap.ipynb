{
 "cells": [
  {
   "cell_type": "markdown",
   "metadata": {},
   "source": [
    "# Leren: Programming assignment 2\n",
    "** This assignment can be done in teams of 2 **\n",
    "\n",
    "**Student 1:**  <span style=\"color:red\">Tycho Koster</span> (<span style=\"color:red\">10667687</span>)<br>\n",
    "**Student 2:** <span style=\"color:red\">David Stap</span> (<span style=\"color:red\">10608516</span>)<br>\n",
    "\n",
    "-----------------------------------\n",
    "This notebook provides a template for your programming assignment 2. You may want to use parts of your code from the previous assignment(s) as a starting point for this assignment. \n",
    "\n",
    "The code you hand-in should follow the structure from this document. Write down your functions in the cells they belong to. Note that the structure corresponds with the structure from the actual programming assignment. Make sure you read this for the full explanation of what is expected of you. \n",
    "\n",
    "**Submission:**\n",
    "\n",
    "* Make sure your code can be run from top to bottom without errors.\n",
    "* Include your data files in the zip file.\n",
    "* Comment your code\n",
    "\n",
    "One way be sure you code can be run without errors is by quiting iPython completely and then restart iPython and run all cells again (you can do this by going to the menu bar above: Cell > Run all). This way you make sure that no old definitions of functions or values of variables are left (that your program might still be using).\n",
    "\n",
    "-----------------------------------\n",
    "\n",
    "If you have any questions ask your teaching assistent. We are here for you.\n",
    "\n",
    "-----------------------------------"
   ]
  },
  {
   "cell_type": "markdown",
   "metadata": {},
   "source": [
    "## Multivariate Linear Regression\n",
    "1) Reading in data"
   ]
  },
  {
   "cell_type": "code",
   "execution_count": 35,
   "metadata": {
    "collapsed": false
   },
   "outputs": [
    {
     "name": "stderr",
     "output_type": "stream",
     "text": [
      "C:\\Users\\Yvonn\\Anaconda3\\lib\\site-packages\\ipykernel\\__main__.py:11: DeprecationWarning: 'U' mode is deprecated\n"
     ]
    }
   ],
   "source": [
    "import csv\n",
    "import string\n",
    "import numpy as np\n",
    "\n",
    "def get_training_data(feature):\n",
    "    check = ['MLS','Bedrooms','Bathrooms','Size','Price']\n",
    "    index = check.index(feature)\n",
    "    training_list = list()\n",
    "    \n",
    "    \n",
    "    with open('housesRegr.csv', 'rU') as csvfile:\n",
    "        csvreader = csv.reader(csvfile)\n",
    "        for row in csvreader:\n",
    "            training_data = row[0].split(';')\n",
    "            training_list.append(training_data[index])\n",
    "\n",
    "    return training_list[1:];\n",
    "\n",
    "\n",
    "prices = np.array(get_training_data('Price')).astype(np.float)\n",
    "bedrooms = np.array(get_training_data('Bedrooms')).astype(np.float)\n",
    "bathrooms = np.array(get_training_data('Bathrooms')).astype(np.float)\n",
    "size = np.array(get_training_data('Size')).astype(np.float)\n",
    "\n",
    "#Normalize all vectors by dividing them with their maximum\n",
    "bedrooms = np.divide(bedrooms, np.amax(bedrooms))\n",
    "prices = np.divide(prices, np.amax(prices))\n",
    "bathrooms = np.divide(bathrooms, np.amax(bathrooms))\n",
    "size = np.divide(size, np.amax(size))\n",
    "allfeatures = [bedrooms, bathrooms, size]"
   ]
  },
  {
   "cell_type": "markdown",
   "metadata": {},
   "source": [
    "2) Gradient function"
   ]
  },
  {
   "cell_type": "code",
   "execution_count": 86,
   "metadata": {
    "collapsed": false
   },
   "outputs": [],
   "source": [
    "import math\n",
    "\n",
    "def gradient_function_multiple(alpha, theta_array, theta, x, y):\n",
    "    m = len(x[0])\n",
    "    totalsum = 0\n",
    "    for i in range(len(x[0])):\n",
    "        temp_x = []\n",
    "        for j in range(len(x)):\n",
    "            temp_x.append(x[j][i])\n",
    "        if theta == 0:\n",
    "            totalsum += (Hx_multiple(theta_array, temp_x) - y[i])\n",
    "        else:\n",
    "            totalsum += (Hx_multiple(theta_array, temp_x) - y[i])*x[theta-1][i]\n",
    "    return (alpha*totalsum)/m\n",
    "    \n",
    "    \n",
    "def Hx_multiple(theta_array, x):\n",
    "    hx = theta_array[0]\n",
    "    for i in range(1, len(theta_array)):\n",
    "        hx += theta_array[i]*x[i-1]\n",
    "    return hx"
   ]
  },
  {
   "cell_type": "markdown",
   "metadata": {},
   "source": [
    "3) Parameter updating"
   ]
  },
  {
   "cell_type": "code",
   "execution_count": 89,
   "metadata": {
    "collapsed": false
   },
   "outputs": [
    {
     "name": "stdout",
     "output_type": "stream",
     "text": [
      "[0.25733333333333336, 0.39542222222222223, 0.371810962962963]\n"
     ]
    }
   ],
   "source": [
    "def update_theta_multiple(alpha, theta_array, x, y, iterations):\n",
    "    for i in range(iterations):\n",
    "        for j in range(len(theta_array)):\n",
    "            theta_array[j] -= gradient_function_multiple(alpha, theta_array, j, x, y)\n",
    "    return theta_array\n",
    "        \n",
    "print(update_theta_multiple(0.01, [0.2,0.2,0.2], [[2,4,4], [3,5,3]], [6,6,10], 1))\n",
    "\n",
    "            \n",
    "            "
   ]
  },
  {
   "cell_type": "markdown",
   "metadata": {},
   "source": [
    "4) Cost function"
   ]
  },
  {
   "cell_type": "code",
   "execution_count": 85,
   "metadata": {
    "collapsed": false
   },
   "outputs": [
    {
     "name": "stdout",
     "output_type": "stream",
     "text": [
      "18.266666666666666\n"
     ]
    }
   ],
   "source": [
    "def cost_function_multiple(theta_array, x, y):\n",
    "    m = len(x[0])\n",
    "    totalsum = 0\n",
    "    for i in range(len(x[0])):\n",
    "        temp_x = []\n",
    "        for j in range(len(x)):\n",
    "            temp_x.append(x[j][i])\n",
    "        totalsum += (Hx_multiple(theta_array, temp_x) - y[i])**2\n",
    "    return totalsum/(2*m)\n",
    "\n",
    "#print(cost_function_multiple([0.2,0.2,0.2], [[2,4,4], [3,5,3]], [6,6,10]))"
   ]
  },
  {
   "cell_type": "markdown",
   "metadata": {},
   "source": [
    "5) Optimization learning rate and iterations"
   ]
  },
  {
   "cell_type": "code",
   "execution_count": null,
   "metadata": {
    "collapsed": true
   },
   "outputs": [],
   "source": []
  },
  {
   "cell_type": "markdown",
   "metadata": {},
   "source": [
    "**Discussion:**\n",
    "\n",
    "[You discussion comes here]\n",
    "\n",
    "-----------------------------------"
   ]
  },
  {
   "cell_type": "markdown",
   "metadata": {},
   "source": [
    "## Polynomial Regression\n",
    "1) Extension to polynomial regression"
   ]
  },
  {
   "cell_type": "code",
   "execution_count": null,
   "metadata": {
    "collapsed": true
   },
   "outputs": [],
   "source": []
  },
  {
   "cell_type": "markdown",
   "metadata": {},
   "source": [
    "2) Cost function"
   ]
  },
  {
   "cell_type": "code",
   "execution_count": null,
   "metadata": {
    "collapsed": true
   },
   "outputs": [],
   "source": []
  },
  {
   "cell_type": "markdown",
   "metadata": {},
   "source": [
    "3) Optimization learning rate and iterations"
   ]
  },
  {
   "cell_type": "code",
   "execution_count": null,
   "metadata": {
    "collapsed": true
   },
   "outputs": [],
   "source": []
  },
  {
   "cell_type": "markdown",
   "metadata": {},
   "source": [
    "**Discussion:**\n",
    "\n",
    "[You discussion comes here]\n",
    "\n",
    "-----------------------------------"
   ]
  },
  {
   "cell_type": "markdown",
   "metadata": {},
   "source": [
    "## Logistic Regression\n",
    "1) Reading in data"
   ]
  },
  {
   "cell_type": "code",
   "execution_count": null,
   "metadata": {
    "collapsed": true
   },
   "outputs": [],
   "source": []
  },
  {
   "cell_type": "markdown",
   "metadata": {},
   "source": [
    "2) Gradient calculating and parameter updating"
   ]
  },
  {
   "cell_type": "code",
   "execution_count": 37,
   "metadata": {
    "collapsed": true
   },
   "outputs": [],
   "source": [
    "#MOET NOG GETEST WORDEN! maar ik denk dat hij werkt\n",
    "def gradient_function_logistic(alpha, theta_array, theta, x, y):\n",
    "    temp_x = []\n",
    "    m = len(x)\n",
    "    totalsum = 0\n",
    "    for i in range(0, len(x[0])):\n",
    "        for j in range(0, len(x)):\n",
    "            temp_x.append(x[j][i])\n",
    "        if theta == 0:\n",
    "            totalsum += (Hx_logistic(theta_array, temp_x) - y[i])\n",
    "        else:\n",
    "            totalsum += (Hx_logistic(theta_array, temp_x) - y[i])*x[theta-1][i]   \n",
    "    return (alpha*totalsum)/m\n",
    "    \n",
    "    \n",
    "def Hx_logistic(theta_array, x):\n",
    "    exponent = theta_array[0]\n",
    "    for i in range(1, len(theta)):\n",
    "        exponent += theta_array[i]*x[i-1]\n",
    "    return 1.0/(1 + math.exp(exponent))\n",
    "\n",
    "def update_theta_logistic(alpha, theta_array, x, y, iterations):\n",
    "    for i in range(0, iterations):\n",
    "        for j in range(0, theta_array):\n",
    "            theta_array[j] -= gradient_function_logistic(alpha, theta_array,j, x, y)\n",
    "    return theta_array"
   ]
  },
  {
   "cell_type": "markdown",
   "metadata": {},
   "source": [
    "3) Cost function"
   ]
  },
  {
   "cell_type": "code",
   "execution_count": 95,
   "metadata": {
    "collapsed": false
   },
   "outputs": [],
   "source": [
    "def cost_function_logistic(theta_array, x, y):\n",
    "    m = len(x[0])\n",
    "    totalsum = 0\n",
    "    for i in range(len(x[0])):\n",
    "        temp_x = []\n",
    "        for j in range(len(x)):\n",
    "            temp_x.append(x[j][i])\n",
    "        totalsum += (y[i] * math.log10(Hx_logistic(theta_array, temp_x)) + \n",
    "                     (1-y[i]) * math.log10(1 - Hx_logistic(theta_array, temp_x)))\n",
    "    return totalsum/-(2*m)"
   ]
  },
  {
   "cell_type": "markdown",
   "metadata": {},
   "source": [
    "4) Pairwise comparison of classess"
   ]
  },
  {
   "cell_type": "code",
   "execution_count": null,
   "metadata": {
    "collapsed": true
   },
   "outputs": [],
   "source": []
  },
  {
   "cell_type": "markdown",
   "metadata": {},
   "source": [
    "5) Optimization learning rate and iterations"
   ]
  },
  {
   "cell_type": "code",
   "execution_count": null,
   "metadata": {
    "collapsed": true
   },
   "outputs": [],
   "source": []
  },
  {
   "cell_type": "markdown",
   "metadata": {},
   "source": [
    "**Discussion:**\n",
    "\n",
    "[You discussion comes here]\n",
    "\n",
    "-----------------------------------"
   ]
  }
 ],
 "metadata": {
  "kernelspec": {
   "display_name": "Python [Root]",
   "language": "python",
   "name": "Python [Root]"
  },
  "language_info": {
   "codemirror_mode": {
    "name": "ipython",
    "version": 3
   },
   "file_extension": ".py",
   "mimetype": "text/x-python",
   "name": "python",
   "nbconvert_exporter": "python",
   "pygments_lexer": "ipython3",
   "version": "3.5.2"
  }
 },
 "nbformat": 4,
 "nbformat_minor": 1
}
