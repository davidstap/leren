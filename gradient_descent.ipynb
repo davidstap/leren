{
 "cells": [
  {
   "cell_type": "code",
   "execution_count": 2,
   "metadata": {
    "collapsed": false
   },
   "outputs": [
    {
     "name": "stderr",
     "output_type": "stream",
     "text": [
      "C:\\Users\\Yvonn\\Anaconda3\\lib\\site-packages\\ipykernel\\__main__.py:10: DeprecationWarning: 'U' mode is deprecated\n"
     ]
    }
   ],
   "source": [
    "import csv\n",
    "import string\n",
    "import numpy as np\n",
    "\n",
    "def get_training_data(feature):\n",
    "    check = ['MLS','Bedrooms','Bathrooms','Size','Price']\n",
    "    index = check.index(feature)\n",
    "    training_list = list()\n",
    "    \n",
    "    with open('housesRegr.csv', 'rU') as csvfile:\n",
    "        csvreader = csv.reader(csvfile)\n",
    "        for row in csvreader:\n",
    "            training_data = row[0].split(';')\n",
    "            training_list.append(training_data[index])\n",
    "\n",
    "    return training_list[1:];\n",
    "\n",
    "\n",
    "\n",
    "prices = np.array(get_training_data('Price')).astype(np.float)\n",
    "bedrooms = np.array(get_training_data('Bedrooms')).astype(np.float)\n",
    "bathrooms = np.array(get_training_data('Bathrooms')).astype(np.float)\n",
    "size = np.array(get_training_data('Size')).astype(np.float)"
   ]
  },
  {
   "cell_type": "code",
   "execution_count": 3,
   "metadata": {
    "collapsed": false
   },
   "outputs": [],
   "source": [
    "import numpy as np\n",
    "import matplotlib.pyplot as plt\n",
    "\n",
    "\n",
    "'''\n",
    "Plot_data\n",
    "Input: x (list with values), y (list with values), name for x-axis, name for y-axis\n",
    "Output: plots with names for x- and y-axis\n",
    "'''\n",
    "def plot_data(x, y, x_name, y_name):\n",
    "    plt.scatter(x, y)\n",
    "    plt.xlabel(x_name, fontsize = 10)\n",
    "    plt.ylabel(y_name, fontsize = 10)\n",
    "    plt.show()\n",
    "\n",
    "plot_data(bedrooms, prices, 'price', 'n of bedrooms')\n",
    "plot_data(bathrooms,prices, 'price', 'n of bathrooms')\n",
    "plot_data(size, prices, 'price', 'size')"
   ]
  },
  {
   "cell_type": "code",
   "execution_count": 4,
   "metadata": {
    "collapsed": true
   },
   "outputs": [],
   "source": [
    "theta_0 = 0\n",
    "theta_1 = 1\n",
    "alpha = 0.01\n",
    "\n",
    "\n",
    "    "
   ]
  },
  {
   "cell_type": "code",
   "execution_count": 5,
   "metadata": {
    "collapsed": false
   },
   "outputs": [],
   "source": [
    "# return  y of function\n",
    "def fx(x, theta_0, theta_1):\n",
    "    return theta_0 + theta_1 * int(x)"
   ]
  },
  {
   "cell_type": "code",
   "execution_count": 6,
   "metadata": {
    "collapsed": false
   },
   "outputs": [],
   "source": [
    "'''\n",
    "Calculates theta_0 using an iterative process\n",
    "Input: theta_0, theta_1, x (list with values), y (list with values), learning rate alpha\n",
    "Output: gradient for theta_0\n",
    "'''\n",
    "def gradientTheta_0_iter(theta_0, theta_1, x, y, alpha):\n",
    "    m = len(x)\n",
    "\n",
    "    sum_training = 0\n",
    "    for i in range(m):\n",
    "        sum_training += fx(int(x[i]), theta_0, theta_1)- int(y[i])\n",
    "    \n",
    "    return theta_0 - (alpha * ((1.0/m) * sum_training))\n",
    "\n",
    "'''\n",
    "Calculates theta_1 using an iterative process\n",
    "Input: theta_0, theta_1, x (list with values), y (list with values), learning rate alpha\n",
    "Output: gradient for theta_1\n",
    "'''\n",
    "def gradientTheta_1_iter(theta_0, theta_1, x, y, alpha):\n",
    "    m = len(x)\n",
    "    \n",
    "    sum_training = 0\n",
    "    for i in range(m):\n",
    "        sum_training += (fx(int(x[i]), theta_0, theta_1)- int(y[i])) * int(x[i])\n",
    "    \n",
    "    return theta_1 - (alpha * ((1.0/m) * sum_training))\n",
    "\n",
    "\n",
    "\n",
    "# print gradientTheta_0_iter(0, 1, [6,5,3], [5,6,10], 0.01)\n",
    "# print gradientTheta_1_iter(0, 1, [6,5,3], [5,6,10], 0.01)"
   ]
  },
  {
   "cell_type": "code",
   "execution_count": 7,
   "metadata": {
    "collapsed": false
   },
   "outputs": [],
   "source": [
    "'''\n",
    "Caclculates fx(x^(i)) values for array x\n",
    "Input: x (numpy array), theta_0, theta_1, m)\n",
    "Output: fx(x^(i)) array\n",
    "'''\n",
    "def make_fx_x(x, theta_0, theta_1, m):\n",
    "    fx_x = np.zeros(m)\n",
    "    for i in range(m):\n",
    "        fx_x[i] = fx(int(x[i]), theta_0, theta_1)\n",
    "    \n",
    "    return fx_x\n",
    "\n",
    "\n",
    "'''\n",
    "Calculates theta_0 using vector multiplication\n",
    "Input: theta_0, theta_1, x (numpy array), y (numpy array) learning rate alpha\n",
    "Output: gradient for theta_0\n",
    "'''\n",
    "def gradientTheta_0_vec(theta_0, theta_1, x, y, alpha):\n",
    "    m = len(x)\n",
    "    \n",
    "    # create fx(x^(i)) vector\n",
    "    fx_x = make_fx_x(x, theta_0, theta_1, m)    \n",
    "\n",
    "    return theta_0 - (alpha * ((1.0/m) * sum((fx_x - y))))\n",
    "\n",
    "'''\n",
    "Calculates theta_1 using vector multiplication\n",
    "Input: theta_0, theta_1, x (numpy array), y (numpy array), learning rate alpha\n",
    "Output: gradient for theta_0\n",
    "'''\n",
    "def gradientTheta_1_vec(theta_0, theta_1, x, y, alpha):\n",
    "    m = len(x)\n",
    "    \n",
    "    # create fx(x^(i)) vector\n",
    "    fx_x = make_fx_x(x, theta_0, theta_1, m)    \n",
    "\n",
    "    return theta_1 - (alpha * ((1.0/m) * sum((fx_x - y)*x)))\n",
    "\n",
    "\n",
    "\n",
    "# print(gradientTheta_0_vec(0, 1, size,prices, 0.01))\n",
    "# print(gradientTheta_1_vec(0, 1, size,prices, 0.01))"
   ]
  },
  {
   "cell_type": "code",
   "execution_count": 8,
   "metadata": {
    "collapsed": false
   },
   "outputs": [
    {
     "name": "stdout",
     "output_type": "stream",
     "text": [
      "theta 0: nan\n",
      "theta 1: nan\n"
     ]
    },
    {
     "name": "stderr",
     "output_type": "stream",
     "text": [
      "C:\\Users\\Yvonn\\Anaconda3\\lib\\site-packages\\ipykernel\\__main__.py:38: RuntimeWarning: overflow encountered in double_scalars\n",
      "C:\\Users\\Yvonn\\Anaconda3\\lib\\site-packages\\ipykernel\\__main__.py:38: RuntimeWarning: invalid value encountered in double_scalars\n"
     ]
    }
   ],
   "source": [
    "def regression_iter(theta_0, theta_1, x, y, alpha, iterations):\n",
    "    for i in range(iterations):\n",
    "        temp_theta_0 = gradientTheta_0_iter(theta_0, theta_1, x, y, alpha)\n",
    "        temp_theta_1 = gradientTheta_1_iter(theta_0, theta_1, x, y, alpha)\n",
    "        theta_0 = temp_theta_0\n",
    "        theta_1 = temp_theta_1\n",
    "    return theta_0, theta_1\n",
    "\n",
    "\n",
    "def regression_vec(theta_0, theta_1, x, y, alpha, iterations):\n",
    "    for i in range(iterations):\n",
    "        temp_theta_0 = gradientTheta_0_vec(theta_0, theta_1, x, y, alpha)\n",
    "        temp_theta_1 = gradientTheta_1_vec(theta_0, theta_1, x, y, alpha)\n",
    "        theta_0 = temp_theta_0\n",
    "        theta_1 = temp_theta_1\n",
    "    fx_predict = make_fx_x(x, theta_0, theta_1, len(x))    \n",
    "    return theta_0, theta_1, fx_predict\n",
    "    \n",
    "\n",
    "def plot_line(x, y, x_name, y_name):\n",
    "    plt.plot(x, y)\n",
    "    plt.xlabel(x_name, fontsize = 10)\n",
    "    plt.ylabel(y_name, fontsize = 10)\n",
    "    plt.show()\n",
    "    \n",
    "    \n",
    "    \n",
    "'''\n",
    "t0, t1 = regression_iter(0, 1, [6,5,3], [5,6,10], 0.01, 2)\n",
    "print 'theta 0: '+str(t0)\n",
    "print 'theta 1: '+str(t1)\n",
    "\n",
    "'''\n",
    "\n",
    "\n",
    "'''\n",
    "t0, t1, fx_predict = regression_vec(0, 1, [6,5,3], [5,6,10], 0.01, 500)\n",
    "print 'theta 0: '+str(t0)\n",
    "print 'theta 1: '+str(t1)\n",
    "\n",
    "'''\n",
    "\n",
    "# t0, t1, fx_predict = regression_vec(0, 1, size, prices, 0.01, 70)\n",
    "# print('theta 0: '+str(t0))\n",
    "# print('theta 1: '+str(t1))\n",
    "\n",
    "\n",
    "\n",
    "\n",
    "\n"
   ]
  },
  {
   "cell_type": "code",
   "execution_count": 9,
   "metadata": {
    "collapsed": false
   },
   "outputs": [
    {
     "data": {
      "text/plain": [
       "'\\n# results homework example\\nprint J(0, 1, [6,5,3], [5,6,10])   \\nprint J(0.02333, 1.06666, [6,5,3], [5,6,10])    \\nprint J(14.39, -1.59, [6,5,3], [5,6,10])    \\nprint J(15, -1.71, [6,5,3], [5,6,10])    \\n'"
      ]
     },
     "execution_count": 9,
     "metadata": {},
     "output_type": "execute_result"
    }
   ],
   "source": [
    "'''\n",
    "Calculates cost function J\n",
    "Input: theta_0, theta_1, x, y\n",
    "Output: cost\n",
    "'''\n",
    "def J(theta_0, theta_1, x, y):\n",
    "    m = len(x)\n",
    "    \n",
    "    sum_error = 0\n",
    "    for i in range(m):\n",
    "        sum_error += (fx(int(x[i]), theta_0, theta_1) - int(y[i]))**2\n",
    "    \n",
    "    return (1.0/(2*m)) * sum_error\n",
    "    \n",
    "'''\n",
    "# results homework example\n",
    "print J(0, 1, [6,5,3], [5,6,10])   \n",
    "print J(0.02333, 1.06666, [6,5,3], [5,6,10])    \n",
    "print J(14.39, -1.59, [6,5,3], [5,6,10])    \n",
    "print J(15, -1.71, [6,5,3], [5,6,10])    \n",
    "'''\n",
    "\n",
    "# # test badrooms no iterations\n",
    "# print J(0, 1, bathrooms, prices)\n",
    "# # test badrooms 50 iterations\n",
    "# print J(31189.03, 155656.13, bathrooms, prices)\n",
    "# # test badrooms 50 iterations\n",
    "# print J(311 bathrooms, prices)\n"
   ]
  },
  {
   "cell_type": "code",
   "execution_count": 11,
   "metadata": {
    "collapsed": false
   },
   "outputs": [
    {
     "name": "stdout",
     "output_type": "stream",
     "text": [
      "How many iterations?10\n",
      "What is the learning rate0.01\n"
     ]
    },
    {
     "name": "stderr",
     "output_type": "stream",
     "text": [
      "C:\\Users\\Yvonn\\Anaconda3\\lib\\site-packages\\ipykernel\\__main__.py:10: DeprecationWarning: 'U' mode is deprecated\n"
     ]
    }
   ],
   "source": [
    "import math\n",
    "if __name__ == \"__main__\":\n",
    "    #User input for the iterations and learning rate.\n",
    "    iterations = int(input(\"How many iterations?\"))\n",
    "    alpha = float(input(\"What is the learning rate\"))\n",
    "    #Initializes all the arrays that are needed.\n",
    "    prices = np.array(get_training_data('Price')).astype(np.float)\n",
    "    bedrooms = np.array(get_training_data('Bedrooms')).astype(np.float)\n",
    "    bathrooms = np.array(get_training_data('Bathrooms')).astype(np.float)\n",
    "    theta_0 = 0\n",
    "    theta_1 = 1\n",
    "    #Get individual theta's of all the arrays\n",
    "    theta_0_bed, theta_1_bed, fx_bed = regression_vec(theta_0, theta_1, bedrooms, prices, alpha, iterations)\n",
    "    theta_0_bath, theta_1_bath, fx_bath = regression_vec(theta_0, theta_1, bathrooms, prices, alpha, iterations)\n",
    "    theta_0_size, theta_1_size, fx_size = regression_vec(theta_0, theta_1, size, prices, alpha, iterations)\n",
    "    #Get costs from the retrieved theta's of all the arrays\n",
    "    cost_bed = J(theta_0_bed, theta_1_bed, bedrooms, prices)\n",
    "    cost_bath = J(theta_0_bath, theta_1_bath, bathrooms, prices)\n",
    "    cost_size = J(theta_0_size, theta_1_size, size, prices)\n",
    "#     print \"Cost theta's bedrooms:\",cost_bed\n",
    "#     print \"Cost theta's bathrooms:\",cost_bed\n",
    "#     print \"Cost theta's size:\",cost_bed\n",
    "    plot_line(size, fx_size, 'size', 'prices')\n",
    "    plot_line(bathrooms, fx_bath, 'bathrooms', 'prices')\n",
    "    plot_line(bedrooms, fx_bed, 'bedrooms', 'prices')"
   ]
  },
  {
   "cell_type": "code",
   "execution_count": null,
   "metadata": {
    "collapsed": true
   },
   "outputs": [],
   "source": []
  },
  {
   "cell_type": "code",
   "execution_count": null,
   "metadata": {
    "collapsed": true
   },
   "outputs": [],
   "source": []
  }
 ],
 "metadata": {
  "anaconda-cloud": {},
  "kernelspec": {
   "display_name": "Python [Root]",
   "language": "python",
   "name": "Python [Root]"
  },
  "language_info": {
   "codemirror_mode": {
    "name": "ipython",
    "version": 3
   },
   "file_extension": ".py",
   "mimetype": "text/x-python",
   "name": "python",
   "nbconvert_exporter": "python",
   "pygments_lexer": "ipython3",
   "version": "3.5.2"
  }
 },
 "nbformat": 4,
 "nbformat_minor": 0
}
