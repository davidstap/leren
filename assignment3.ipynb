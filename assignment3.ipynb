{
 "cells": [
  {
   "cell_type": "markdown",
   "metadata": {},
   "source": [
    "# Leren: Programming assignment 3\n",
    "** This assignment can be done in teams of 2 **\n",
    "\n",
    "**Student 1:**  <span style=\"color:red\">Tycho Koster</span> (<span style=\"color:red\">10667687</span>)<br>\n",
    "**Student 2:** <span style=\"color:red\">David Stap</span> (<span style=\"color:red\">10608516</span>)<br>\n",
    "\n",
    "-----------------------------------\n",
    "This notebook provides a template for your programming assignment 3. You may want to use parts of your code from the previous assignment(s) as a starting point for this assignment. \n",
    "\n",
    "The code you hand-in should follow the structure from this document. Each part of the assignment has its own cell, you are free to add more cells. Note that the structure corresponds with the structure from the actual programming assignment. Make sure you read this for the full explanation of what is expected of you.\n",
    "\n",
    "**Submission:**\n",
    "\n",
    "* Make sure your code can be run from top to bottom without errors.\n",
    "* Include your data files in the zip file.\n",
    "* Comment your code\n",
    "\n",
    "One way be sure you code can be run without errors is by quiting iPython completely and then restart iPython and run all cells again (you can do this by going to the menu bar above: Cell > Run all). This way you make sure that no old definitions of functions or values of variables are left (that your program might still be using).\n",
    "\n",
    "-----------------------------------\n",
    "\n",
    "If you have any questions ask your teaching assistent. We are here for you.\n",
    "\n",
    "-----------------------------------"
   ]
  },
  {
   "cell_type": "markdown",
   "metadata": {},
   "source": [
    "## Regularized Logistic Regression\n",
    "a) Implementation"
   ]
  },
  {
   "cell_type": "code",
   "execution_count": 371,
   "metadata": {
    "collapsed": false
   },
   "outputs": [],
   "source": [
    "import math\n",
    "import numpy as np\n",
    "from numpy import genfromtxt\n",
    "import matplotlib.pyplot as plt\n",
    "\n",
    "# add data\n",
    "# X1  X2  X3  Y\n",
    "# 10  4   4   0\n",
    "# 7   3   3   0 \n",
    "# 5   4   2   1\n",
    "# 2   3   1   1\n",
    "def read_logistic_data():\n",
    "    x = []\n",
    "    y= []\n",
    "    y.append(0)\n",
    "    y.append(0)\n",
    "    y.append(1)\n",
    "    y.append(1)\n",
    "    x.append([10.0, 4.0, 4.0])\n",
    "    x.append([7.0, 3.0, 3.0])\n",
    "    x.append([5.0, 4.0, 2.0])\n",
    "    x.append([2.0, 3.0, 1.0])    \n",
    "    return x, y\n",
    "\n",
    "\n",
    "def create_theta_array(x):\n",
    "    theta = [0.5]\n",
    "    for i in range(len(x)):\n",
    "        theta.append(0.5)\n",
    "    return theta\n",
    "\n",
    "\n",
    "x, y = read_logistic_data()\n",
    "theta_array = create_theta_array(x[0])"
   ]
  },
  {
   "cell_type": "code",
   "execution_count": 362,
   "metadata": {
    "collapsed": false,
    "scrolled": true
   },
   "outputs": [],
   "source": [
    "'''\n",
    "gradient_function_logistic\n",
    "Input: alpha (learning rate), theta_array (list of theta values), x (list of multiple features with values), y (list of values)\n",
    "Output: gradient for every theta in array\n",
    "'''\n",
    "\n",
    "def gradient_function_logistic(alpha, theta_array, theta, x, y):\n",
    "    m = len(x)\n",
    "    totalsum = 0\n",
    "    for i in range(0, len(x[0])):\n",
    "        temp_x = []\n",
    "        #temporary x for the values of all features at that specific index\n",
    "        for j in range(len(x)):\n",
    "            temp_x.append(x[j][i])\n",
    "        if theta == 0:\n",
    "            totalsum += (Hx_logistic(theta_array, temp_x) - y[i])\n",
    "        else:\n",
    "            totalsum += (Hx_logistic(theta_array, temp_x) - y[i])*x[theta-1][i]\n",
    "    return (alpha*totalsum)/m\n",
    "    \n",
    "'''\n",
    "Hx_logistic\n",
    "Input: theta_array (list of theta values), x (list of values)\n",
    "Output: prediction of y with logistic hypotheses calculations\n",
    "'''\n",
    "def Hx_logistic(theta_array, x):\n",
    "    exponent = theta_array[0]\n",
    "    for i in range(1, len(theta_array)):\n",
    "        exponent += theta_array[i]*x[i-1]\n",
    "    e = -exponent\n",
    "    return 1.0/(1 + math.exp(e))\n",
    "\n",
    "'''\n",
    "update_theta_logistic\n",
    "Input: alpha (learning rate), theta_array (list of theta values), x (list of multiple features with values), y (list of values),\n",
    "iterations (number of iterations to be done)\n",
    "Output: All values of theta after the amount of iterations with the use of logistic regression.\n",
    "'''\n",
    "def update_theta_logistic(alpha, theta_array, x, y, iterations):\n",
    "    costs = []\n",
    "    costs.append(cost(theta_array, x, y))\n",
    "    for i in range(iterations):\n",
    "        for j in range(len(theta_array)):\n",
    "            theta_array[j] -= gradient_function_logistic(alpha, theta_array,j, x, y)\n",
    "        costs.append(cost(theta_array, x, y))\n",
    "    return theta_array, costs\n",
    "\n",
    "def hypothesis(theta, training_example):\n",
    "    totalsum = 0.0\n",
    "    for i in range(len(theta[1:])):\n",
    "        totalsum += theta[i]*training_example[i]\n",
    "    # + theta_0 * 1\n",
    "    totalsum+=theta[0]  \n",
    "    return 1.0/(1 + math.exp(-totalsum))\n",
    "    \n",
    "    \n",
    "def cost(theta, x, y):\n",
    "    cost = 0.0\n",
    "    for t in range(len(x)):\n",
    "        if y[t] == 1:\n",
    "            cost += math.log10(hypothesis(theta, x[t]))\n",
    "        if y[t] == 0:\n",
    "            cost += math.log10(1-hypothesis(theta, x[t]))\n",
    "        \n",
    "    return (-1.0/len(x)) * cost"
   ]
  },
  {
   "cell_type": "code",
   "execution_count": 384,
   "metadata": {
    "collapsed": false
   },
   "outputs": [
    {
     "data": {
      "text/plain": [
       "([0.49502293901017974,\n",
       "  0.46509236400983045,\n",
       "  0.4750796202086097,\n",
       "  0.4775725918897131],\n",
       " [1.7950707304149853, 1.7399201079007602])"
      ]
     },
     "execution_count": 384,
     "metadata": {},
     "output_type": "execute_result"
    }
   ],
   "source": [
    "update_theta_logistic(0.01, theta_array, x, y, 1)"
   ]
  },
  {
   "cell_type": "code",
   "execution_count": 378,
   "metadata": {
    "collapsed": true
   },
   "outputs": [],
   "source": [
    "def update_theta(alpha, theta, x, y, iterations):\n",
    "    \n",
    "    errors = []\n",
    "    for t in range(len(x)):\n",
    "        errors.append(hypothesis(theta, x[t]) - y[t])\n",
    "    \n",
    "    \n",
    "    \n",
    "    \n",
    "    return errors\n",
    "    \n",
    "    \n",
    "    "
   ]
  },
  {
   "cell_type": "code",
   "execution_count": 379,
   "metadata": {
    "collapsed": false
   },
   "outputs": [
    {
     "data": {
      "text/plain": [
       "[0.9999251537724895,\n",
       " 0.9990889488055994,\n",
       " -0.002472623156634657,\n",
       " -0.02931223075135636]"
      ]
     },
     "execution_count": 379,
     "metadata": {},
     "output_type": "execute_result"
    }
   ],
   "source": [
    "update_theta(0.01, theta_array, x, y, 5)"
   ]
  },
  {
   "cell_type": "code",
   "execution_count": 381,
   "metadata": {
    "collapsed": false
   },
   "outputs": [
    {
     "name": "stdout",
     "output_type": "stream",
     "text": [
      "0.999925153772\n",
      "0.999088948806\n",
      "0.997527376843\n",
      "0.970687769249\n"
     ]
    }
   ],
   "source": [
    "print hypothesis(theta_array, x[0])\n",
    "print hypothesis(theta_array, x[1])\n",
    "print hypothesis(theta_array, x[2])\n",
    "print hypothesis(theta_array, x[3])"
   ]
  },
  {
   "cell_type": "code",
   "execution_count": 382,
   "metadata": {
    "collapsed": false
   },
   "outputs": [
    {
     "name": "stdout",
     "output_type": "stream",
     "text": [
      "0.495081926878\n"
     ]
    }
   ],
   "source": [
    "x1 = hypothesis(theta_array, x[0])\n",
    "x2 = hypothesis(theta_array, x[1])\n",
    "x3 = hypothesis(theta_array, x[2])-1\n",
    "x4 = hypothesis(theta_array, x[3])-1\n",
    "\n",
    "print 0.5 - 0.01 * (1/4.0)*(x1+x2+x3+x4)"
   ]
  },
  {
   "cell_type": "markdown",
   "metadata": {},
   "source": [
    "b) Two small datasets"
   ]
  },
  {
   "cell_type": "markdown",
   "metadata": {},
   "source": [
    "**Discussion:**\n",
    "\n",
    "[You discussion comes here]\n",
    "\n",
    "-----------------------------------"
   ]
  },
  {
   "cell_type": "markdown",
   "metadata": {},
   "source": [
    "## 2) Neural Network\n"
   ]
  },
  {
   "cell_type": "code",
   "execution_count": 370,
   "metadata": {
    "collapsed": false
   },
   "outputs": [],
   "source": [
    "def sigmoid(z):\n",
    "    return 1/(1+np.exp(-z))\n",
    "\n",
    "def sigmoid_derivative(z):\n",
    "    return z*(1-z)"
   ]
  },
  {
   "cell_type": "markdown",
   "metadata": {},
   "source": [
    "a) Forward Propagation"
   ]
  },
  {
   "cell_type": "code",
   "execution_count": 602,
   "metadata": {
    "collapsed": false
   },
   "outputs": [
    {
     "name": "stdout",
     "output_type": "stream",
     "text": [
      "intermediate steps:  [array([[-5]]), array([ 0.26894142]), array([ 0.50672313])]\n",
      "Y activation:  [ 0.50672313]\n"
     ]
    }
   ],
   "source": [
    "'''\n",
    "Input: \n",
    "- Input value(s) X\n",
    "- List with weights for hidden layer(s) W\n",
    "- Weights for final layer W_output (can be of a different dimension than\n",
    "  W, because n of output values can be different than n of nodes in \n",
    "  hidden layers)\n",
    "Output: \n",
    "- activation value(s) of y \n",
    "'''\n",
    "def forward(X, W, W_output):    \n",
    "    steps = list()\n",
    "    steps.append(X)    \n",
    "    # loop over weights for hidden layers\n",
    "    for i in range(len(W)):\n",
    "        steps.append(sigmoid(np.dot(steps[i], W[i])))    \n",
    "    # for final value, use W_output\n",
    "    steps.append(sigmoid(np.dot(steps[-1], W_output)))\n",
    "    \n",
    "    return steps, steps[-1]\n",
    "  \n",
    "    \n",
    "#example run: calculate activation of Y for neural network in written3\n",
    "X = np.array([[-5]])\n",
    "W = np.array([[0.2]])\n",
    "W_output = np.array([[0.1]])\n",
    "\n",
    "steps, result = forward(X, W, W_output)\n",
    "print 'intermediate steps: ', steps\n",
    "print 'Y activation: ', result"
   ]
  },
  {
   "cell_type": "code",
   "execution_count": 603,
   "metadata": {
    "collapsed": false
   },
   "outputs": [
    {
     "name": "stdout",
     "output_type": "stream",
     "text": [
      "Y activation:  [ 0.00074474  0.45844378  0.62710019]\n"
     ]
    }
   ],
   "source": [
    "# more fancy example run: calculate activation of y where:\n",
    "\n",
    "inputLayerSize = 10\n",
    "outputLayerSize = 3\n",
    "hiddenLayerSize = 35\n",
    "hiddenLayerDepth = 1\n",
    "\n",
    "def random_weights(inputLayerSize, outputLayerSize, hiddenLayerSize, hiddenLayerDepth):    \n",
    "    # create random weight values for all hidden layers\n",
    "    W = list()\n",
    "    W.append(np.random.randn(inputLayerSize, hiddenLayerSize))\n",
    "    if hiddenLayerSize > 1:\n",
    "        for i in range(hiddenLayerDepth):\n",
    "            W.append(np.random.randn(hiddenLayerSize, hiddenLayerSize))\n",
    "\n",
    "    # W_output might have different dimensions \n",
    "    # (if outputLayerSize != hiddenLayerSize)\n",
    "    W_output = np.random.randn(hiddenLayerSize, outputLayerSize)\n",
    "    \n",
    "    return W, W_output\n",
    "\n",
    "X = np.array([0,0,0,12,13,5,0,0,0,0])\n",
    "\n",
    "W, W_output = random_weights(len(X), outputLayerSize, hiddenLayerSize, hiddenLayerDepth)\n",
    "\n",
    "steps, result = forward(X, W, W_output)\n",
    "print 'Y activation: ', result"
   ]
  },
  {
   "cell_type": "markdown",
   "metadata": {},
   "source": [
    "b) Backpropagation on two logistic units"
   ]
  },
  {
   "cell_type": "code",
   "execution_count": 500,
   "metadata": {
    "collapsed": false
   },
   "outputs": [
    {
     "data": {
      "image/png": "[encoded data removed]",
      "text/plain": [
       "<matplotlib.figure.Figure at 0x7fb44d2eaa10>"
      ]
     },
     "metadata": {},
     "output_type": "display_data"
    },
    {
     "name": "stdout",
     "output_type": "stream",
     "text": [
      "weights:  [ 14.69321372  -1.65275945]\n"
     ]
    }
   ],
   "source": [
    "'''\n",
    "backpropagation for data from written assignment 1:\n",
    "X  |  6  5  3\n",
    "Y  |  5  6  10\n",
    "\n",
    "Input:\n",
    "- X (training examples + added row of ones for bias unit)\n",
    "- y (y values)\n",
    "- w (list with weights)\n",
    "- alpha (learning rate)\n",
    "- number of iterations\n",
    "Output:\n",
    "- weights after iterations\n",
    "'''\n",
    "def error_backpropagation(X, y, w, alpha, iterations):\n",
    "    for t in range(iterations):\n",
    "        grad = np.array([0., 0.])\n",
    "        # loop through training examples\n",
    "        for i in range(len(X)):\n",
    "            x_i = X[i, :]\n",
    "            y_i = y[i]\n",
    "            h = np.dot(w, x_i)-y_i\n",
    "            grad += 2*x_i*h\n",
    "\n",
    "        # update weights\n",
    "        w = w - alpha * grad\n",
    "\n",
    "    plot(X, y, w) \n",
    "    return w\n",
    "\n",
    "def plot(X, y, w):   \n",
    "    tt = np.linspace(np.min(X[:, 1]), np.max(X[:, 1]), 10)\n",
    "    bf_line = w[0]+w[1]*tt\n",
    "    plt.plot(X[:, 1], y, 'kx', tt, bf_line, 'r-')\n",
    "    plt.xlabel('X')\n",
    "    plt.ylabel('Y')\n",
    "    plt.show()\n",
    "    \n",
    "    \n",
    "X = np.array([[1,6], [1,5], [1,3]])\n",
    "y = np.array([5,6,10])\n",
    "w = np.array([0.5, 0.5])\n",
    "\n",
    "weights = error_backpropagation(X, y, w, 0.001, 10000)\n",
    "print \"weights: \", weights"
   ]
  },
  {
   "cell_type": "code",
   "execution_count": 501,
   "metadata": {
    "collapsed": false
   },
   "outputs": [
    {
     "name": "stdout",
     "output_type": "stream",
     "text": [
      "current output:  [ 0.50672313]\n",
      "new output:  [ 0.51463352]\n",
      "---------------\n",
      "current output:  [ 0.51463352]\n",
      "new output:  [ 0.52818891]\n",
      "---------------\n",
      "current output:  [ 0.52818891]\n",
      "new output:  [ 0.55496235]\n",
      "---------------\n",
      "current output:  [ 0.55496235]\n",
      "new output:  [ 0.60284722]\n",
      "---------------\n",
      "current output:  [ 0.60284722]\n",
      "new output:  [ 0.66075745]\n",
      "---------------\n"
     ]
    }
   ],
   "source": [
    "'''\n",
    "backpropagation for written3 assignment 3.3\n",
    "\n",
    "Input:\n",
    "- X (training examples)\n",
    "- y (y values)\n",
    "- W (list with weights for hidden layers)\n",
    "- W_output (weights for final hidden layer)\n",
    "- alpha (learning rate)\n",
    "- number of iterations\n",
    "'''\n",
    "def backpropagation_written3_3_3(X, y, W, W_output, alpha, iterations):\n",
    "    steps, result = forward(X, W, W_output)\n",
    "    if iterations > 0:\n",
    "\n",
    "        print 'current output: ', result\n",
    "        ### LAST WEIGHTS\n",
    "        d_2 = result - y\n",
    "\n",
    "        ### MIDDLE WEIGHTS\n",
    "        d_1 = W_output * d_2 * sigmoid_derivative(steps[-2])    \n",
    "        dy_dtheta2 = steps[-2] * d_2\n",
    "\n",
    "        # FIRST WEIGHTS\n",
    "        dy_dtheta1 = X[0] * d_1\n",
    "\n",
    "        ### UPDATE WEIGHTS\n",
    "        W_updated = W - alpha * dy_dtheta1\n",
    "        W_output_updated = W_output - alpha * dy_dtheta2\n",
    "\n",
    "        steps, result = forward(X, W_updated, W_output_updated)\n",
    "        print 'new output: ', result\n",
    "        print '---------------'\n",
    "        \n",
    "        backpropagation_written3_3_3(X, y, W_updated, W_output_updated, alpha, iterations-1)\n",
    "\n",
    "\n",
    "X = np.array([[-5]])\n",
    "y = np.array([[1]])\n",
    "W = np.array([[0.2]])\n",
    "W_output = np.array([[0.1]])\n",
    "\n",
    "backpropagation_written3_3_3(X, y, W, W_output, 0.7, 5)    "
   ]
  },
  {
   "cell_type": "markdown",
   "metadata": {},
   "source": [
    "c) Complete backpropagation on handwritten digit recognition"
   ]
  },
  {
   "cell_type": "raw",
   "metadata": {},
   "source": [
    "**Discussion:**\n",
    "\n",
    "### QUESTION 2B ###\n",
    "\n",
    "def backpropagation performs gradient descent using a neural network to find the best weights for theta_0 and theta_1. One input value is chosen, namely X. Also, a bias unit is added; this way we can make sure that the resulting formula for a line does not have to go through the origin. \n",
    "\n",
    "def backpropagation_written_3_3_3 is an additional function that calculates the values from written3 assignment 3.3. From the results it can be seen that the output correctly increases (because Y = 1)."
   ]
  },
  {
   "cell_type": "code",
   "execution_count": 675,
   "metadata": {
    "collapsed": false
   },
   "outputs": [],
   "source": [
    "from numpy import genfromtxt\n",
    "\n",
    "# import X and y from csv file\n",
    "def read_logistic_data():\n",
    "    my_data = genfromtxt('digits123.csv', delimiter=',')\n",
    "    X = []\n",
    "    y= []\n",
    "    for i in range(len(my_data)):\n",
    "        new_data = my_data[i]\n",
    "        y.append([new_data[-1]])\n",
    "        X.append(np.delete(new_data, -1))\n",
    "    return X, y\n",
    "\n",
    "X, temp_y = read_logistic_data()\n",
    "\n",
    "'''\n",
    "for this specific handwritten digit classification problem, we need to have \n",
    "three classes: 1, 2, 3. Representation of the classes will be as follows:\n",
    "\n",
    "class '1' =   class '2' =   class '3' =\n",
    "[1,           [0,           [0,\n",
    " 0,            1,            0,\n",
    " 0]            0]            1]\n",
    "'''\n",
    "y = []\n",
    "\n",
    "for i in range(len(temp_y)):\n",
    "    if temp_y[i][0] == 1.0:\n",
    "        y.append(np.array([[1, 0, 0]]))        \n",
    "    if temp_y[i][0] == 2.0:\n",
    "        y.append(np.array([[0, 1, 0]]))      \n",
    "    if temp_y[i][0] == 3.0:\n",
    "        y.append(np.array([[0, 0, 1]]))"
   ]
  },
  {
   "cell_type": "code",
   "execution_count": 684,
   "metadata": {
    "collapsed": false
   },
   "outputs": [
    {
     "name": "stdout",
     "output_type": "stream",
     "text": [
      "[ 0.37136759  0.97767139  0.85072009]\n"
     ]
    }
   ],
   "source": [
    "# chosen parameters for neural network:\n",
    "inputLayerSize = 64   # 64 features\n",
    "outputLayerSize = 3   # three classes: 1, 2, 3\n",
    "hiddenLayerSize = 35  # simple rule of thumb: n of neurons in hidden layer\n",
    "                      # is mean of inputLayerSize and outPutlayerSize.\n",
    "hiddenLayerDepth = 1\n",
    "\n",
    "# create random weights for NN using above parameters\n",
    "W, W_output = random_weights(inputLayerSize, outputLayerSize, hiddenLayerSize, hiddenLayerDepth)\n",
    "\n",
    "\n",
    "\n",
    "steps, result = forward(X[0], W, W_output)\n",
    "\n",
    "print result\n"
   ]
  },
  {
   "cell_type": "code",
   "execution_count": 685,
   "metadata": {
    "collapsed": false
   },
   "outputs": [
    {
     "data": {
      "text/plain": [
       "array([[-0.62863241,  0.97767139,  0.85072009]])"
      ]
     },
     "execution_count": 685,
     "metadata": {},
     "output_type": "execute_result"
    }
   ],
   "source": [
    "result-y[0]"
   ]
  },
  {
   "cell_type": "code",
   "execution_count": 688,
   "metadata": {
    "collapsed": false
   },
   "outputs": [
    {
     "name": "stdout",
     "output_type": "stream",
     "text": [
      "current output:  [ 0.37136759  0.97767139  0.85072009]\n"
     ]
    },
    {
     "ename": "ValueError",
     "evalue": "operands could not be broadcast together with shapes (35,3) (35,) ",
     "output_type": "error",
     "traceback": [
      "\u001b[1;31m---------------------------------------------------------------------------\u001b[0m",
      "\u001b[1;31mValueError\u001b[0m                                Traceback (most recent call last)",
      "\u001b[1;32m<ipython-input-688-9d3f662ee9c5>\u001b[0m in \u001b[0;36m<module>\u001b[1;34m()\u001b[0m\n\u001b[0;32m      1\u001b[0m \u001b[1;31m#backpropagation_written3_3_3(X, y, W, W_output, alpha, iterations)\u001b[0m\u001b[1;33m\u001b[0m\u001b[1;33m\u001b[0m\u001b[0m\n\u001b[0;32m      2\u001b[0m \u001b[1;33m\u001b[0m\u001b[0m\n\u001b[1;32m----> 3\u001b[1;33m \u001b[0mbackpropagation_written3_3_3\u001b[0m\u001b[1;33m(\u001b[0m\u001b[0mX\u001b[0m\u001b[1;33m[\u001b[0m\u001b[1;36m0\u001b[0m\u001b[1;33m]\u001b[0m\u001b[1;33m,\u001b[0m \u001b[0my\u001b[0m\u001b[1;33m[\u001b[0m\u001b[1;36m0\u001b[0m\u001b[1;33m]\u001b[0m\u001b[1;33m,\u001b[0m \u001b[0mW\u001b[0m\u001b[1;33m,\u001b[0m \u001b[0mW_output\u001b[0m\u001b[1;33m,\u001b[0m \u001b[1;36m0.01\u001b[0m\u001b[1;33m,\u001b[0m \u001b[1;36m1\u001b[0m\u001b[1;33m)\u001b[0m\u001b[1;33m\u001b[0m\u001b[0m\n\u001b[0m",
      "\u001b[1;32m<ipython-input-501-fa90b430be28>\u001b[0m in \u001b[0;36mbackpropagation_written3_3_3\u001b[1;34m(X, y, W, W_output, alpha, iterations)\u001b[0m\n\u001b[0;32m     19\u001b[0m \u001b[1;33m\u001b[0m\u001b[0m\n\u001b[0;32m     20\u001b[0m         \u001b[1;31m### MIDDLE WEIGHTS\u001b[0m\u001b[1;33m\u001b[0m\u001b[1;33m\u001b[0m\u001b[0m\n\u001b[1;32m---> 21\u001b[1;33m         \u001b[0md_1\u001b[0m \u001b[1;33m=\u001b[0m \u001b[0mW_output\u001b[0m \u001b[1;33m*\u001b[0m \u001b[0md_2\u001b[0m \u001b[1;33m*\u001b[0m \u001b[0msigmoid_derivative\u001b[0m\u001b[1;33m(\u001b[0m\u001b[0msteps\u001b[0m\u001b[1;33m[\u001b[0m\u001b[1;33m-\u001b[0m\u001b[1;36m2\u001b[0m\u001b[1;33m]\u001b[0m\u001b[1;33m)\u001b[0m\u001b[1;33m\u001b[0m\u001b[0m\n\u001b[0m\u001b[0;32m     22\u001b[0m         \u001b[0mdy_dtheta2\u001b[0m \u001b[1;33m=\u001b[0m \u001b[0msteps\u001b[0m\u001b[1;33m[\u001b[0m\u001b[1;33m-\u001b[0m\u001b[1;36m2\u001b[0m\u001b[1;33m]\u001b[0m \u001b[1;33m*\u001b[0m \u001b[0md_2\u001b[0m\u001b[1;33m\u001b[0m\u001b[0m\n\u001b[0;32m     23\u001b[0m \u001b[1;33m\u001b[0m\u001b[0m\n",
      "\u001b[1;31mValueError\u001b[0m: operands could not be broadcast together with shapes (35,3) (35,) "
     ]
    }
   ],
   "source": [
    "#backpropagation_written3_3_3(X, y, W, W_output, alpha, iterations)\n",
    "\n",
    "backpropagation_written3_3_3(X[0], y[0], W, W_output, 0.01, 1)"
   ]
  }
 ],
 "metadata": {
  "anaconda-cloud": {},
  "kernelspec": {
   "display_name": "Python [default]",
   "language": "python",
   "name": "python2"
  },
  "language_info": {
   "codemirror_mode": {
    "name": "ipython",
    "version": 2
   },
   "file_extension": ".py",
   "mimetype": "text/x-python",
   "name": "python",
   "nbconvert_exporter": "python",
   "pygments_lexer": "ipython2",
   "version": "2.7.12"
  }
 },
 "nbformat": 4,
 "nbformat_minor": 1
}
